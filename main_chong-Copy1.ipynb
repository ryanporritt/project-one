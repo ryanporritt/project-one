{
 "cells": [
  {
   "cell_type": "code",
   "execution_count": 1,
   "metadata": {},
   "outputs": [
    {
     "name": "stdout",
     "output_type": "stream",
     "text": [
      "loan.csv\n"
     ]
    }
   ],
   "source": [
    "import os\n",
    "import random\n",
    "import pandas as pd\n",
    "import matplotlib.pyplot as plt\n",
    "import numpy as np\n",
    "\n",
    "# Set path for file\n",
    "csvpath = os.path.join(\"loan.csv\")\n",
    "print(csvpath)\n",
    "\n",
    "x_axis = np.arange(0, 100, 1)"
   ]
  },
  {
   "cell_type": "code",
   "execution_count": 2,
   "metadata": {},
   "outputs": [
    {
     "name": "stderr",
     "output_type": "stream",
     "text": [
      "C:\\Users\\Chong\\.conda\\envs\\PythonData\\lib\\site-packages\\IPython\\core\\interactiveshell.py:3058: DtypeWarning: Columns (19,47,55,112,123,124,125,128,129,130,133,139,140,141) have mixed types. Specify dtype option on import or set low_memory=False.\n",
      "  interactivity=interactivity, compiler=compiler, result=result)\n"
     ]
    },
    {
     "data": {
      "text/html": [
       "<div>\n",
       "<style scoped>\n",
       "    .dataframe tbody tr th:only-of-type {\n",
       "        vertical-align: middle;\n",
       "    }\n",
       "\n",
       "    .dataframe tbody tr th {\n",
       "        vertical-align: top;\n",
       "    }\n",
       "\n",
       "    .dataframe thead th {\n",
       "        text-align: right;\n",
       "    }\n",
       "</style>\n",
       "<table border=\"1\" class=\"dataframe\">\n",
       "  <thead>\n",
       "    <tr style=\"text-align: right;\">\n",
       "      <th></th>\n",
       "      <th>id</th>\n",
       "      <th>member_id</th>\n",
       "      <th>loan_amnt</th>\n",
       "      <th>funded_amnt</th>\n",
       "      <th>funded_amnt_inv</th>\n",
       "      <th>term</th>\n",
       "      <th>int_rate</th>\n",
       "      <th>installment</th>\n",
       "      <th>grade</th>\n",
       "      <th>sub_grade</th>\n",
       "      <th>...</th>\n",
       "      <th>hardship_payoff_balance_amount</th>\n",
       "      <th>hardship_last_payment_amount</th>\n",
       "      <th>disbursement_method</th>\n",
       "      <th>debt_settlement_flag</th>\n",
       "      <th>debt_settlement_flag_date</th>\n",
       "      <th>settlement_status</th>\n",
       "      <th>settlement_date</th>\n",
       "      <th>settlement_amount</th>\n",
       "      <th>settlement_percentage</th>\n",
       "      <th>settlement_term</th>\n",
       "    </tr>\n",
       "  </thead>\n",
       "  <tbody>\n",
       "    <tr>\n",
       "      <td>0</td>\n",
       "      <td>NaN</td>\n",
       "      <td>NaN</td>\n",
       "      <td>2500</td>\n",
       "      <td>2500</td>\n",
       "      <td>2500.0</td>\n",
       "      <td>36 months</td>\n",
       "      <td>13.56</td>\n",
       "      <td>84.92</td>\n",
       "      <td>C</td>\n",
       "      <td>C1</td>\n",
       "      <td>...</td>\n",
       "      <td>NaN</td>\n",
       "      <td>NaN</td>\n",
       "      <td>Cash</td>\n",
       "      <td>N</td>\n",
       "      <td>NaN</td>\n",
       "      <td>NaN</td>\n",
       "      <td>NaN</td>\n",
       "      <td>NaN</td>\n",
       "      <td>NaN</td>\n",
       "      <td>NaN</td>\n",
       "    </tr>\n",
       "    <tr>\n",
       "      <td>1</td>\n",
       "      <td>NaN</td>\n",
       "      <td>NaN</td>\n",
       "      <td>30000</td>\n",
       "      <td>30000</td>\n",
       "      <td>30000.0</td>\n",
       "      <td>60 months</td>\n",
       "      <td>18.94</td>\n",
       "      <td>777.23</td>\n",
       "      <td>D</td>\n",
       "      <td>D2</td>\n",
       "      <td>...</td>\n",
       "      <td>NaN</td>\n",
       "      <td>NaN</td>\n",
       "      <td>Cash</td>\n",
       "      <td>N</td>\n",
       "      <td>NaN</td>\n",
       "      <td>NaN</td>\n",
       "      <td>NaN</td>\n",
       "      <td>NaN</td>\n",
       "      <td>NaN</td>\n",
       "      <td>NaN</td>\n",
       "    </tr>\n",
       "    <tr>\n",
       "      <td>2</td>\n",
       "      <td>NaN</td>\n",
       "      <td>NaN</td>\n",
       "      <td>5000</td>\n",
       "      <td>5000</td>\n",
       "      <td>5000.0</td>\n",
       "      <td>36 months</td>\n",
       "      <td>17.97</td>\n",
       "      <td>180.69</td>\n",
       "      <td>D</td>\n",
       "      <td>D1</td>\n",
       "      <td>...</td>\n",
       "      <td>NaN</td>\n",
       "      <td>NaN</td>\n",
       "      <td>Cash</td>\n",
       "      <td>N</td>\n",
       "      <td>NaN</td>\n",
       "      <td>NaN</td>\n",
       "      <td>NaN</td>\n",
       "      <td>NaN</td>\n",
       "      <td>NaN</td>\n",
       "      <td>NaN</td>\n",
       "    </tr>\n",
       "    <tr>\n",
       "      <td>3</td>\n",
       "      <td>NaN</td>\n",
       "      <td>NaN</td>\n",
       "      <td>4000</td>\n",
       "      <td>4000</td>\n",
       "      <td>4000.0</td>\n",
       "      <td>36 months</td>\n",
       "      <td>18.94</td>\n",
       "      <td>146.51</td>\n",
       "      <td>D</td>\n",
       "      <td>D2</td>\n",
       "      <td>...</td>\n",
       "      <td>NaN</td>\n",
       "      <td>NaN</td>\n",
       "      <td>Cash</td>\n",
       "      <td>N</td>\n",
       "      <td>NaN</td>\n",
       "      <td>NaN</td>\n",
       "      <td>NaN</td>\n",
       "      <td>NaN</td>\n",
       "      <td>NaN</td>\n",
       "      <td>NaN</td>\n",
       "    </tr>\n",
       "    <tr>\n",
       "      <td>4</td>\n",
       "      <td>NaN</td>\n",
       "      <td>NaN</td>\n",
       "      <td>30000</td>\n",
       "      <td>30000</td>\n",
       "      <td>30000.0</td>\n",
       "      <td>60 months</td>\n",
       "      <td>16.14</td>\n",
       "      <td>731.78</td>\n",
       "      <td>C</td>\n",
       "      <td>C4</td>\n",
       "      <td>...</td>\n",
       "      <td>NaN</td>\n",
       "      <td>NaN</td>\n",
       "      <td>Cash</td>\n",
       "      <td>N</td>\n",
       "      <td>NaN</td>\n",
       "      <td>NaN</td>\n",
       "      <td>NaN</td>\n",
       "      <td>NaN</td>\n",
       "      <td>NaN</td>\n",
       "      <td>NaN</td>\n",
       "    </tr>\n",
       "  </tbody>\n",
       "</table>\n",
       "<p>5 rows × 145 columns</p>\n",
       "</div>"
      ],
      "text/plain": [
       "   id  member_id  loan_amnt  funded_amnt  funded_amnt_inv        term  \\\n",
       "0 NaN        NaN       2500         2500           2500.0   36 months   \n",
       "1 NaN        NaN      30000        30000          30000.0   60 months   \n",
       "2 NaN        NaN       5000         5000           5000.0   36 months   \n",
       "3 NaN        NaN       4000         4000           4000.0   36 months   \n",
       "4 NaN        NaN      30000        30000          30000.0   60 months   \n",
       "\n",
       "   int_rate  installment grade sub_grade  ... hardship_payoff_balance_amount  \\\n",
       "0     13.56        84.92     C        C1  ...                            NaN   \n",
       "1     18.94       777.23     D        D2  ...                            NaN   \n",
       "2     17.97       180.69     D        D1  ...                            NaN   \n",
       "3     18.94       146.51     D        D2  ...                            NaN   \n",
       "4     16.14       731.78     C        C4  ...                            NaN   \n",
       "\n",
       "  hardship_last_payment_amount disbursement_method  debt_settlement_flag  \\\n",
       "0                          NaN                Cash                     N   \n",
       "1                          NaN                Cash                     N   \n",
       "2                          NaN                Cash                     N   \n",
       "3                          NaN                Cash                     N   \n",
       "4                          NaN                Cash                     N   \n",
       "\n",
       "  debt_settlement_flag_date settlement_status settlement_date  \\\n",
       "0                       NaN               NaN             NaN   \n",
       "1                       NaN               NaN             NaN   \n",
       "2                       NaN               NaN             NaN   \n",
       "3                       NaN               NaN             NaN   \n",
       "4                       NaN               NaN             NaN   \n",
       "\n",
       "  settlement_amount  settlement_percentage settlement_term  \n",
       "0               NaN                    NaN             NaN  \n",
       "1               NaN                    NaN             NaN  \n",
       "2               NaN                    NaN             NaN  \n",
       "3               NaN                    NaN             NaN  \n",
       "4               NaN                    NaN             NaN  \n",
       "\n",
       "[5 rows x 145 columns]"
      ]
     },
     "execution_count": 2,
     "metadata": {},
     "output_type": "execute_result"
    }
   ],
   "source": [
    "loans_df = pd.read_csv(csvpath)\n",
    "loans_df.head()"
   ]
  },
  {
   "cell_type": "code",
   "execution_count": 3,
   "metadata": {},
   "outputs": [
    {
     "data": {
      "text/html": [
       "<div>\n",
       "<style scoped>\n",
       "    .dataframe tbody tr th:only-of-type {\n",
       "        vertical-align: middle;\n",
       "    }\n",
       "\n",
       "    .dataframe tbody tr th {\n",
       "        vertical-align: top;\n",
       "    }\n",
       "\n",
       "    .dataframe thead th {\n",
       "        text-align: right;\n",
       "    }\n",
       "</style>\n",
       "<table border=\"1\" class=\"dataframe\">\n",
       "  <thead>\n",
       "    <tr style=\"text-align: right;\">\n",
       "      <th></th>\n",
       "      <th>dti</th>\n",
       "      <th>annual_inc</th>\n",
       "      <th>loan_amnt</th>\n",
       "      <th>term</th>\n",
       "      <th>int_rate</th>\n",
       "      <th>total_pymnt</th>\n",
       "      <th>issue_d</th>\n",
       "      <th>addr_state</th>\n",
       "      <th>zip_code</th>\n",
       "      <th>purpose</th>\n",
       "    </tr>\n",
       "  </thead>\n",
       "  <tbody>\n",
       "    <tr>\n",
       "      <td>0</td>\n",
       "      <td>18.24</td>\n",
       "      <td>55000.0</td>\n",
       "      <td>2500</td>\n",
       "      <td>36 months</td>\n",
       "      <td>13.56</td>\n",
       "      <td>167.020000</td>\n",
       "      <td>Dec-2018</td>\n",
       "      <td>NY</td>\n",
       "      <td>109xx</td>\n",
       "      <td>debt_consolidation</td>\n",
       "    </tr>\n",
       "    <tr>\n",
       "      <td>1</td>\n",
       "      <td>26.52</td>\n",
       "      <td>90000.0</td>\n",
       "      <td>30000</td>\n",
       "      <td>60 months</td>\n",
       "      <td>18.94</td>\n",
       "      <td>1507.110000</td>\n",
       "      <td>Dec-2018</td>\n",
       "      <td>LA</td>\n",
       "      <td>713xx</td>\n",
       "      <td>debt_consolidation</td>\n",
       "    </tr>\n",
       "    <tr>\n",
       "      <td>2</td>\n",
       "      <td>10.51</td>\n",
       "      <td>59280.0</td>\n",
       "      <td>5000</td>\n",
       "      <td>36 months</td>\n",
       "      <td>17.97</td>\n",
       "      <td>353.890000</td>\n",
       "      <td>Dec-2018</td>\n",
       "      <td>MI</td>\n",
       "      <td>490xx</td>\n",
       "      <td>debt_consolidation</td>\n",
       "    </tr>\n",
       "    <tr>\n",
       "      <td>3</td>\n",
       "      <td>16.74</td>\n",
       "      <td>92000.0</td>\n",
       "      <td>4000</td>\n",
       "      <td>36 months</td>\n",
       "      <td>18.94</td>\n",
       "      <td>286.710000</td>\n",
       "      <td>Dec-2018</td>\n",
       "      <td>WA</td>\n",
       "      <td>985xx</td>\n",
       "      <td>debt_consolidation</td>\n",
       "    </tr>\n",
       "    <tr>\n",
       "      <td>4</td>\n",
       "      <td>26.35</td>\n",
       "      <td>57250.0</td>\n",
       "      <td>30000</td>\n",
       "      <td>60 months</td>\n",
       "      <td>16.14</td>\n",
       "      <td>1423.210000</td>\n",
       "      <td>Dec-2018</td>\n",
       "      <td>MD</td>\n",
       "      <td>212xx</td>\n",
       "      <td>debt_consolidation</td>\n",
       "    </tr>\n",
       "    <tr>\n",
       "      <td>...</td>\n",
       "      <td>...</td>\n",
       "      <td>...</td>\n",
       "      <td>...</td>\n",
       "      <td>...</td>\n",
       "      <td>...</td>\n",
       "      <td>...</td>\n",
       "      <td>...</td>\n",
       "      <td>...</td>\n",
       "      <td>...</td>\n",
       "      <td>...</td>\n",
       "    </tr>\n",
       "    <tr>\n",
       "      <td>2260663</td>\n",
       "      <td>20.88</td>\n",
       "      <td>58000.0</td>\n",
       "      <td>12000</td>\n",
       "      <td>60 months</td>\n",
       "      <td>14.08</td>\n",
       "      <td>5360.960000</td>\n",
       "      <td>Oct-2017</td>\n",
       "      <td>VT</td>\n",
       "      <td>054xx</td>\n",
       "      <td>debt_consolidation</td>\n",
       "    </tr>\n",
       "    <tr>\n",
       "      <td>2260664</td>\n",
       "      <td>19.28</td>\n",
       "      <td>30000.0</td>\n",
       "      <td>12000</td>\n",
       "      <td>60 months</td>\n",
       "      <td>25.82</td>\n",
       "      <td>14499.802172</td>\n",
       "      <td>Oct-2017</td>\n",
       "      <td>OR</td>\n",
       "      <td>971xx</td>\n",
       "      <td>debt_consolidation</td>\n",
       "    </tr>\n",
       "    <tr>\n",
       "      <td>2260665</td>\n",
       "      <td>12.96</td>\n",
       "      <td>64000.0</td>\n",
       "      <td>10000</td>\n",
       "      <td>36 months</td>\n",
       "      <td>11.99</td>\n",
       "      <td>5306.940000</td>\n",
       "      <td>Oct-2017</td>\n",
       "      <td>IL</td>\n",
       "      <td>603xx</td>\n",
       "      <td>debt_consolidation</td>\n",
       "    </tr>\n",
       "    <tr>\n",
       "      <td>2260666</td>\n",
       "      <td>30.82</td>\n",
       "      <td>60000.0</td>\n",
       "      <td>12000</td>\n",
       "      <td>60 months</td>\n",
       "      <td>21.45</td>\n",
       "      <td>5207.290000</td>\n",
       "      <td>Oct-2017</td>\n",
       "      <td>AK</td>\n",
       "      <td>996xx</td>\n",
       "      <td>debt_consolidation</td>\n",
       "    </tr>\n",
       "    <tr>\n",
       "      <td>2260667</td>\n",
       "      <td>18.40</td>\n",
       "      <td>60000.0</td>\n",
       "      <td>16550</td>\n",
       "      <td>60 months</td>\n",
       "      <td>21.45</td>\n",
       "      <td>7355.500000</td>\n",
       "      <td>Oct-2017</td>\n",
       "      <td>NY</td>\n",
       "      <td>112xx</td>\n",
       "      <td>credit_card</td>\n",
       "    </tr>\n",
       "  </tbody>\n",
       "</table>\n",
       "<p>2260668 rows × 10 columns</p>\n",
       "</div>"
      ],
      "text/plain": [
       "           dti  annual_inc  loan_amnt        term  int_rate   total_pymnt  \\\n",
       "0        18.24     55000.0       2500   36 months     13.56    167.020000   \n",
       "1        26.52     90000.0      30000   60 months     18.94   1507.110000   \n",
       "2        10.51     59280.0       5000   36 months     17.97    353.890000   \n",
       "3        16.74     92000.0       4000   36 months     18.94    286.710000   \n",
       "4        26.35     57250.0      30000   60 months     16.14   1423.210000   \n",
       "...        ...         ...        ...         ...       ...           ...   \n",
       "2260663  20.88     58000.0      12000   60 months     14.08   5360.960000   \n",
       "2260664  19.28     30000.0      12000   60 months     25.82  14499.802172   \n",
       "2260665  12.96     64000.0      10000   36 months     11.99   5306.940000   \n",
       "2260666  30.82     60000.0      12000   60 months     21.45   5207.290000   \n",
       "2260667  18.40     60000.0      16550   60 months     21.45   7355.500000   \n",
       "\n",
       "          issue_d addr_state zip_code             purpose  \n",
       "0        Dec-2018         NY    109xx  debt_consolidation  \n",
       "1        Dec-2018         LA    713xx  debt_consolidation  \n",
       "2        Dec-2018         MI    490xx  debt_consolidation  \n",
       "3        Dec-2018         WA    985xx  debt_consolidation  \n",
       "4        Dec-2018         MD    212xx  debt_consolidation  \n",
       "...           ...        ...      ...                 ...  \n",
       "2260663  Oct-2017         VT    054xx  debt_consolidation  \n",
       "2260664  Oct-2017         OR    971xx  debt_consolidation  \n",
       "2260665  Oct-2017         IL    603xx  debt_consolidation  \n",
       "2260666  Oct-2017         AK    996xx  debt_consolidation  \n",
       "2260667  Oct-2017         NY    112xx         credit_card  \n",
       "\n",
       "[2260668 rows x 10 columns]"
      ]
     },
     "execution_count": 3,
     "metadata": {},
     "output_type": "execute_result"
    }
   ],
   "source": [
    "pertinent_loans_df = loans_df[[ \"dti\",\"annual_inc\", \"loan_amnt\", \"term\", \"int_rate\", \"total_pymnt\", \"issue_d\", \"addr_state\", \"zip_code\", \"purpose\"]]\n",
    "pertinent_loans_df"
   ]
  },
  {
   "cell_type": "code",
   "execution_count": 4,
   "metadata": {},
   "outputs": [
    {
     "data": {
      "text/plain": [
       "110000000.0"
      ]
     },
     "execution_count": 4,
     "metadata": {},
     "output_type": "execute_result"
    }
   ],
   "source": [
    "pertinent_loans_df[\"annual_inc\"].max()"
   ]
  },
  {
   "cell_type": "code",
   "execution_count": 5,
   "metadata": {},
   "outputs": [
    {
     "data": {
      "text/plain": [
       "-1.0"
      ]
     },
     "execution_count": 5,
     "metadata": {},
     "output_type": "execute_result"
    }
   ],
   "source": [
    "pertinent_loans_df[\"dti\"].min()"
   ]
  },
  {
   "cell_type": "code",
   "execution_count": 6,
   "metadata": {},
   "outputs": [],
   "source": [
    "# Create the bins in which annual_inc will be held, based on tax brackets\n",
    "bins = [0, 9700, 39475, 84200, 160725, 204100, 510300, 110000000]\n",
    "\n",
    "\n",
    "# Create the names for the four bins\n",
    "income_tiers = [\"Tier_One\", \"Tier_Two\", \"Tier_Three\", \"Tier_Four\", \"Tier_Five\", \"Tier_Six\", \"Tier_Seven\"]"
   ]
  },
  {
   "cell_type": "code",
   "execution_count": 7,
   "metadata": {},
   "outputs": [
    {
     "data": {
      "text/plain": [
       "0    Tier_Three\n",
       "1     Tier_Four\n",
       "2    Tier_Three\n",
       "3     Tier_Four\n",
       "4    Tier_Three\n",
       "Name: annual_inc, dtype: category\n",
       "Categories (7, object): [Tier_One < Tier_Two < Tier_Three < Tier_Four < Tier_Five < Tier_Six < Tier_Seven]"
      ]
     },
     "execution_count": 7,
     "metadata": {},
     "output_type": "execute_result"
    }
   ],
   "source": [
    "a = pd.cut(pertinent_loans_df[\"annual_inc\"], bins, labels=income_tiers)\n",
    "a.head()"
   ]
  },
  {
   "cell_type": "code",
   "execution_count": 8,
   "metadata": {},
   "outputs": [
    {
     "name": "stderr",
     "output_type": "stream",
     "text": [
      "C:\\Users\\Chong\\.conda\\envs\\PythonData\\lib\\site-packages\\ipykernel_launcher.py:1: SettingWithCopyWarning: \n",
      "A value is trying to be set on a copy of a slice from a DataFrame.\n",
      "Try using .loc[row_indexer,col_indexer] = value instead\n",
      "\n",
      "See the caveats in the documentation: http://pandas.pydata.org/pandas-docs/stable/user_guide/indexing.html#returning-a-view-versus-a-copy\n",
      "  \"\"\"Entry point for launching an IPython kernel.\n"
     ]
    },
    {
     "data": {
      "text/html": [
       "<div>\n",
       "<style scoped>\n",
       "    .dataframe tbody tr th:only-of-type {\n",
       "        vertical-align: middle;\n",
       "    }\n",
       "\n",
       "    .dataframe tbody tr th {\n",
       "        vertical-align: top;\n",
       "    }\n",
       "\n",
       "    .dataframe thead th {\n",
       "        text-align: right;\n",
       "    }\n",
       "</style>\n",
       "<table border=\"1\" class=\"dataframe\">\n",
       "  <thead>\n",
       "    <tr style=\"text-align: right;\">\n",
       "      <th></th>\n",
       "      <th>dti</th>\n",
       "      <th>annual_inc</th>\n",
       "      <th>loan_amnt</th>\n",
       "      <th>term</th>\n",
       "      <th>int_rate</th>\n",
       "      <th>total_pymnt</th>\n",
       "      <th>issue_d</th>\n",
       "      <th>addr_state</th>\n",
       "      <th>zip_code</th>\n",
       "      <th>purpose</th>\n",
       "      <th>tier_group</th>\n",
       "    </tr>\n",
       "  </thead>\n",
       "  <tbody>\n",
       "    <tr>\n",
       "      <td>0</td>\n",
       "      <td>18.24</td>\n",
       "      <td>55000.0</td>\n",
       "      <td>2500</td>\n",
       "      <td>36 months</td>\n",
       "      <td>13.56</td>\n",
       "      <td>167.02</td>\n",
       "      <td>Dec-2018</td>\n",
       "      <td>NY</td>\n",
       "      <td>109xx</td>\n",
       "      <td>debt_consolidation</td>\n",
       "      <td>Tier_Three</td>\n",
       "    </tr>\n",
       "    <tr>\n",
       "      <td>1</td>\n",
       "      <td>26.52</td>\n",
       "      <td>90000.0</td>\n",
       "      <td>30000</td>\n",
       "      <td>60 months</td>\n",
       "      <td>18.94</td>\n",
       "      <td>1507.11</td>\n",
       "      <td>Dec-2018</td>\n",
       "      <td>LA</td>\n",
       "      <td>713xx</td>\n",
       "      <td>debt_consolidation</td>\n",
       "      <td>Tier_Four</td>\n",
       "    </tr>\n",
       "    <tr>\n",
       "      <td>2</td>\n",
       "      <td>10.51</td>\n",
       "      <td>59280.0</td>\n",
       "      <td>5000</td>\n",
       "      <td>36 months</td>\n",
       "      <td>17.97</td>\n",
       "      <td>353.89</td>\n",
       "      <td>Dec-2018</td>\n",
       "      <td>MI</td>\n",
       "      <td>490xx</td>\n",
       "      <td>debt_consolidation</td>\n",
       "      <td>Tier_Three</td>\n",
       "    </tr>\n",
       "    <tr>\n",
       "      <td>3</td>\n",
       "      <td>16.74</td>\n",
       "      <td>92000.0</td>\n",
       "      <td>4000</td>\n",
       "      <td>36 months</td>\n",
       "      <td>18.94</td>\n",
       "      <td>286.71</td>\n",
       "      <td>Dec-2018</td>\n",
       "      <td>WA</td>\n",
       "      <td>985xx</td>\n",
       "      <td>debt_consolidation</td>\n",
       "      <td>Tier_Four</td>\n",
       "    </tr>\n",
       "    <tr>\n",
       "      <td>4</td>\n",
       "      <td>26.35</td>\n",
       "      <td>57250.0</td>\n",
       "      <td>30000</td>\n",
       "      <td>60 months</td>\n",
       "      <td>16.14</td>\n",
       "      <td>1423.21</td>\n",
       "      <td>Dec-2018</td>\n",
       "      <td>MD</td>\n",
       "      <td>212xx</td>\n",
       "      <td>debt_consolidation</td>\n",
       "      <td>Tier_Three</td>\n",
       "    </tr>\n",
       "  </tbody>\n",
       "</table>\n",
       "</div>"
      ],
      "text/plain": [
       "     dti  annual_inc  loan_amnt        term  int_rate  total_pymnt   issue_d  \\\n",
       "0  18.24     55000.0       2500   36 months     13.56       167.02  Dec-2018   \n",
       "1  26.52     90000.0      30000   60 months     18.94      1507.11  Dec-2018   \n",
       "2  10.51     59280.0       5000   36 months     17.97       353.89  Dec-2018   \n",
       "3  16.74     92000.0       4000   36 months     18.94       286.71  Dec-2018   \n",
       "4  26.35     57250.0      30000   60 months     16.14      1423.21  Dec-2018   \n",
       "\n",
       "  addr_state zip_code             purpose  tier_group  \n",
       "0         NY    109xx  debt_consolidation  Tier_Three  \n",
       "1         LA    713xx  debt_consolidation   Tier_Four  \n",
       "2         MI    490xx  debt_consolidation  Tier_Three  \n",
       "3         WA    985xx  debt_consolidation   Tier_Four  \n",
       "4         MD    212xx  debt_consolidation  Tier_Three  "
      ]
     },
     "execution_count": 8,
     "metadata": {},
     "output_type": "execute_result"
    }
   ],
   "source": [
    "pertinent_loans_df[\"tier_group\"] = a\n",
    "pertinent_loans_df.head()"
   ]
  },
  {
   "cell_type": "code",
   "execution_count": 9,
   "metadata": {
    "scrolled": true
   },
   "outputs": [
    {
     "name": "stdout",
     "output_type": "stream",
     "text": [
      "tier_group\n",
      "Tier_One         2954\n",
      "Tier_Two       343095\n",
      "Tier_Three    1196274\n",
      "Tier_Four      604591\n",
      "Tier_Five       59806\n",
      "Tier_Six        48894\n",
      "Tier_Seven       3383\n",
      "Name: annual_inc, dtype: int64\n"
     ]
    },
    {
     "data": {
      "text/html": [
       "<div>\n",
       "<style scoped>\n",
       "    .dataframe tbody tr th:only-of-type {\n",
       "        vertical-align: middle;\n",
       "    }\n",
       "\n",
       "    .dataframe tbody tr th {\n",
       "        vertical-align: top;\n",
       "    }\n",
       "\n",
       "    .dataframe thead th {\n",
       "        text-align: right;\n",
       "    }\n",
       "</style>\n",
       "<table border=\"1\" class=\"dataframe\">\n",
       "  <thead>\n",
       "    <tr style=\"text-align: right;\">\n",
       "      <th></th>\n",
       "      <th>int_rate</th>\n",
       "      <th>loan_amnt</th>\n",
       "      <th>annual_inc</th>\n",
       "    </tr>\n",
       "    <tr>\n",
       "      <th>tier_group</th>\n",
       "      <th></th>\n",
       "      <th></th>\n",
       "      <th></th>\n",
       "    </tr>\n",
       "  </thead>\n",
       "  <tbody>\n",
       "    <tr>\n",
       "      <td>Tier_One</td>\n",
       "      <td>14.813074</td>\n",
       "      <td>11096.267773</td>\n",
       "      <td>6.529720e+03</td>\n",
       "    </tr>\n",
       "    <tr>\n",
       "      <td>Tier_Two</td>\n",
       "      <td>13.962959</td>\n",
       "      <td>8677.464842</td>\n",
       "      <td>2.989422e+04</td>\n",
       "    </tr>\n",
       "    <tr>\n",
       "      <td>Tier_Three</td>\n",
       "      <td>13.252005</td>\n",
       "      <td>13711.771613</td>\n",
       "      <td>5.970080e+04</td>\n",
       "    </tr>\n",
       "    <tr>\n",
       "      <td>Tier_Four</td>\n",
       "      <td>12.506046</td>\n",
       "      <td>19535.365230</td>\n",
       "      <td>1.101832e+05</td>\n",
       "    </tr>\n",
       "    <tr>\n",
       "      <td>Tier_Five</td>\n",
       "      <td>11.945691</td>\n",
       "      <td>23553.136809</td>\n",
       "      <td>1.814288e+05</td>\n",
       "    </tr>\n",
       "    <tr>\n",
       "      <td>Tier_Six</td>\n",
       "      <td>11.709249</td>\n",
       "      <td>25823.841371</td>\n",
       "      <td>2.769104e+05</td>\n",
       "    </tr>\n",
       "    <tr>\n",
       "      <td>Tier_Seven</td>\n",
       "      <td>11.682722</td>\n",
       "      <td>26295.876441</td>\n",
       "      <td>1.068499e+06</td>\n",
       "    </tr>\n",
       "  </tbody>\n",
       "</table>\n",
       "</div>"
      ],
      "text/plain": [
       "             int_rate     loan_amnt    annual_inc\n",
       "tier_group                                       \n",
       "Tier_One    14.813074  11096.267773  6.529720e+03\n",
       "Tier_Two    13.962959   8677.464842  2.989422e+04\n",
       "Tier_Three  13.252005  13711.771613  5.970080e+04\n",
       "Tier_Four   12.506046  19535.365230  1.101832e+05\n",
       "Tier_Five   11.945691  23553.136809  1.814288e+05\n",
       "Tier_Six    11.709249  25823.841371  2.769104e+05\n",
       "Tier_Seven  11.682722  26295.876441  1.068499e+06"
      ]
     },
     "execution_count": 9,
     "metadata": {},
     "output_type": "execute_result"
    }
   ],
   "source": [
    "# Create a GroupBy object based upon \"View Group\"\n",
    "loan_group = pertinent_loans_df.groupby(\"tier_group\")\n",
    "\n",
    "# Find how many rows fall into each bin\n",
    "print(loan_group[\"annual_inc\"].count())\n",
    "\n",
    "# Get the average of each column within the GroupBy object\n",
    "loan_group[[\"int_rate\", \"loan_amnt\", \"annual_inc\"]].mean()"
   ]
  },
  {
   "cell_type": "code",
   "execution_count": 10,
   "metadata": {},
   "outputs": [],
   "source": [
    "tier_group_x = [0, 9700, 39475, 84200, 160725, 204100, 510300, 110000000]\n",
    "\n"
   ]
  },
  {
   "cell_type": "code",
   "execution_count": null,
   "metadata": {},
   "outputs": [],
   "source": []
  },
  {
   "cell_type": "code",
   "execution_count": 11,
   "metadata": {},
   "outputs": [
    {
     "data": {
      "text/html": [
       "<div>\n",
       "<style scoped>\n",
       "    .dataframe tbody tr th:only-of-type {\n",
       "        vertical-align: middle;\n",
       "    }\n",
       "\n",
       "    .dataframe tbody tr th {\n",
       "        vertical-align: top;\n",
       "    }\n",
       "\n",
       "    .dataframe thead th {\n",
       "        text-align: right;\n",
       "    }\n",
       "</style>\n",
       "<table border=\"1\" class=\"dataframe\">\n",
       "  <thead>\n",
       "    <tr style=\"text-align: right;\">\n",
       "      <th></th>\n",
       "      <th>dti</th>\n",
       "      <th>annual_inc</th>\n",
       "      <th>loan_amnt</th>\n",
       "      <th>term</th>\n",
       "      <th>int_rate</th>\n",
       "      <th>total_pymnt</th>\n",
       "      <th>issue_d</th>\n",
       "      <th>addr_state</th>\n",
       "      <th>zip_code</th>\n",
       "      <th>purpose</th>\n",
       "      <th>tier_group</th>\n",
       "    </tr>\n",
       "  </thead>\n",
       "  <tbody>\n",
       "    <tr>\n",
       "      <td>0</td>\n",
       "      <td>18.24</td>\n",
       "      <td>55000.0</td>\n",
       "      <td>2500</td>\n",
       "      <td>36 months</td>\n",
       "      <td>13.56</td>\n",
       "      <td>167.02</td>\n",
       "      <td>Dec-2018</td>\n",
       "      <td>NY</td>\n",
       "      <td>109xx</td>\n",
       "      <td>debt_consolidation</td>\n",
       "      <td>Tier_Three</td>\n",
       "    </tr>\n",
       "    <tr>\n",
       "      <td>1</td>\n",
       "      <td>26.52</td>\n",
       "      <td>90000.0</td>\n",
       "      <td>30000</td>\n",
       "      <td>60 months</td>\n",
       "      <td>18.94</td>\n",
       "      <td>1507.11</td>\n",
       "      <td>Dec-2018</td>\n",
       "      <td>LA</td>\n",
       "      <td>713xx</td>\n",
       "      <td>debt_consolidation</td>\n",
       "      <td>Tier_Four</td>\n",
       "    </tr>\n",
       "    <tr>\n",
       "      <td>2</td>\n",
       "      <td>10.51</td>\n",
       "      <td>59280.0</td>\n",
       "      <td>5000</td>\n",
       "      <td>36 months</td>\n",
       "      <td>17.97</td>\n",
       "      <td>353.89</td>\n",
       "      <td>Dec-2018</td>\n",
       "      <td>MI</td>\n",
       "      <td>490xx</td>\n",
       "      <td>debt_consolidation</td>\n",
       "      <td>Tier_Three</td>\n",
       "    </tr>\n",
       "    <tr>\n",
       "      <td>3</td>\n",
       "      <td>16.74</td>\n",
       "      <td>92000.0</td>\n",
       "      <td>4000</td>\n",
       "      <td>36 months</td>\n",
       "      <td>18.94</td>\n",
       "      <td>286.71</td>\n",
       "      <td>Dec-2018</td>\n",
       "      <td>WA</td>\n",
       "      <td>985xx</td>\n",
       "      <td>debt_consolidation</td>\n",
       "      <td>Tier_Four</td>\n",
       "    </tr>\n",
       "    <tr>\n",
       "      <td>4</td>\n",
       "      <td>26.35</td>\n",
       "      <td>57250.0</td>\n",
       "      <td>30000</td>\n",
       "      <td>60 months</td>\n",
       "      <td>16.14</td>\n",
       "      <td>1423.21</td>\n",
       "      <td>Dec-2018</td>\n",
       "      <td>MD</td>\n",
       "      <td>212xx</td>\n",
       "      <td>debt_consolidation</td>\n",
       "      <td>Tier_Three</td>\n",
       "    </tr>\n",
       "  </tbody>\n",
       "</table>\n",
       "</div>"
      ],
      "text/plain": [
       "     dti  annual_inc  loan_amnt        term  int_rate  total_pymnt   issue_d  \\\n",
       "0  18.24     55000.0       2500   36 months     13.56       167.02  Dec-2018   \n",
       "1  26.52     90000.0      30000   60 months     18.94      1507.11  Dec-2018   \n",
       "2  10.51     59280.0       5000   36 months     17.97       353.89  Dec-2018   \n",
       "3  16.74     92000.0       4000   36 months     18.94       286.71  Dec-2018   \n",
       "4  26.35     57250.0      30000   60 months     16.14      1423.21  Dec-2018   \n",
       "\n",
       "  addr_state zip_code             purpose  tier_group  \n",
       "0         NY    109xx  debt_consolidation  Tier_Three  \n",
       "1         LA    713xx  debt_consolidation   Tier_Four  \n",
       "2         MI    490xx  debt_consolidation  Tier_Three  \n",
       "3         WA    985xx  debt_consolidation   Tier_Four  \n",
       "4         MD    212xx  debt_consolidation  Tier_Three  "
      ]
     },
     "execution_count": 11,
     "metadata": {},
     "output_type": "execute_result"
    }
   ],
   "source": [
    "pertinent_loans_df.head()"
   ]
  },
  {
   "cell_type": "code",
   "execution_count": 12,
   "metadata": {},
   "outputs": [
    {
     "name": "stdout",
     "output_type": "stream",
     "text": [
      "[24013, 516971, 1277877, 424, 150457, 14136, 50445, 27488, 15403, 139440, 1445, 24689, 15525, 2355]\n"
     ]
    }
   ],
   "source": [
    "loan_group2 = pertinent_loans_df.groupby(\"purpose\")\n",
    "#print(loan_group2[\"purpose\"].count())\n",
    "purposeList = list(loan_group2[\"purpose\"].count())\n",
    "print(purposeList)\n"
   ]
  },
  {
   "cell_type": "code",
   "execution_count": 13,
   "metadata": {},
   "outputs": [
    {
     "name": "stdout",
     "output_type": "stream",
     "text": [
      "purpose\n",
      "debt_consolidation    1277877\n",
      "credit_card            516971\n",
      "home_improvement       150457\n",
      "other                  139440\n",
      "major_purchase          50445\n",
      "medical                 27488\n",
      "small_business          24689\n",
      "car                     24013\n",
      "vacation                15525\n",
      "moving                  15403\n",
      "house                   14136\n",
      "wedding                  2355\n",
      "renewable_energy         1445\n",
      "educational               424\n",
      "Name: purpose, dtype: int64\n"
     ]
    }
   ],
   "source": [
    "purpose_png = (loan_group2[\"purpose\"].count())\n",
    "purpose_png_sort = purpose_png.sort_values(ascending=False)\n",
    "\n",
    "print(purpose_png_sort)"
   ]
  },
  {
   "cell_type": "code",
   "execution_count": 15,
   "metadata": {},
   "outputs": [
    {
     "data": {
      "text/plain": [
       "['debt_consolidation',\n",
       " 'credit_card',\n",
       " 'house',\n",
       " 'car',\n",
       " 'other',\n",
       " 'vacation',\n",
       " 'home_improvement',\n",
       " 'small_business',\n",
       " 'major_purchase',\n",
       " 'medical',\n",
       " 'renewable_energy',\n",
       " 'moving',\n",
       " 'wedding',\n",
       " 'educational']"
      ]
     },
     "execution_count": 15,
     "metadata": {},
     "output_type": "execute_result"
    }
   ],
   "source": [
    "purposeType = pertinent_loans_df[\"purpose\"].unique()\n",
    "purposeTypeList = list(purposeType)\n",
    "purposeTypeList"
   ]
  },
  {
   "cell_type": "code",
   "execution_count": 16,
   "metadata": {},
   "outputs": [],
   "source": [
    "#loan = [\"car\", \"credit card\", \"debt_consolidation\", \"educational\", \"home_improvement\", \"house\", \"major_purchase\", \"medical\", \"moving\", \"other\", \"renewable_energy\", \"small_business\", \"vacation\", \"wedding\" ]\n",
    "\n",
    "#sizes = [24013, 516971, 1277877, 424, 150457, 14136, 50445, 27488, 15403, 139440, 1445, 24689, 15525, 2355 ]\n",
    "\n",
    "colors = [\"red\", \"sienna\", \"moccasin\", \"gold\", \"darkkhaki\", \"darkgreen\", \"lightseagreen\", \"green\", \"blue\", \"mediumpurple\", \"plum\", \"gray\", \"orange\", \"brown\"]\n",
    "\n",
    "explode = (0, 0.1, 0.1, 0, 0, 0.1, 0, 0, 0, 0, 0, 0, 0, 0)\n"
   ]
  },
  {
   "cell_type": "code",
   "execution_count": 18,
   "metadata": {},
   "outputs": [
    {
     "data": {
      "image/png": "[encoded data removed]",
      "text/plain": [
       "<Figure size 432x288 with 1 Axes>"
      ]
     },
     "metadata": {},
     "output_type": "display_data"
    }
   ],
   "source": [
    "plt.pie(purposeList, explode=explode, labels=purposeTypeList, colors=colors,\n",
    "        autopct=\"%1.1f%%\", shadow=True, startangle=140)\n",
    "\n",
    "plt.savefig(\"loan_piechart02.png\")"
   ]
  },
  {
   "cell_type": "code",
   "execution_count": null,
   "metadata": {},
   "outputs": [],
   "source": []
  },
  {
   "cell_type": "code",
   "execution_count": 19,
   "metadata": {},
   "outputs": [],
   "source": [
    "loan = [ \"Credit card\", \"Debt Consolidation\", \"Home improvement\", \"Other\", \"Personal\\Misc\"]\n",
    "\n",
    "sizes = [ 516971, 1277877, 150457, 139440, 174508 ]\n",
    "\n",
    "colors = [\"red\", \"sienna\", \"moccasin\", \"gold\", \"green\"]\n",
    "\n",
    "explode = (0.1, 0.1, 0.1, 0.1, 0.1)\n"
   ]
  },
  {
   "cell_type": "code",
   "execution_count": 20,
   "metadata": {},
   "outputs": [
    {
     "data": {
      "image/png": "[encoded data removed]",
      "text/plain": [
       "<Figure size 432x288 with 1 Axes>"
      ]
     },
     "metadata": {},
     "output_type": "display_data"
    }
   ],
   "source": [
    "plt.pie(sizes, explode=explode, labels=loan, colors=colors,\n",
    "        autopct=\"%1.1f%%\", shadow=True, startangle=140)\n",
    "plt.savefig(\"loan_piechart01.png\")"
   ]
  },
  {
   "cell_type": "code",
   "execution_count": 21,
   "metadata": {},
   "outputs": [
    {
     "data": {
      "text/html": [
       "<div>\n",
       "<style scoped>\n",
       "    .dataframe tbody tr th:only-of-type {\n",
       "        vertical-align: middle;\n",
       "    }\n",
       "\n",
       "    .dataframe tbody tr th {\n",
       "        vertical-align: top;\n",
       "    }\n",
       "\n",
       "    .dataframe thead th {\n",
       "        text-align: right;\n",
       "    }\n",
       "</style>\n",
       "<table border=\"1\" class=\"dataframe\">\n",
       "  <thead>\n",
       "    <tr style=\"text-align: right;\">\n",
       "      <th></th>\n",
       "      <th>loan_amnt</th>\n",
       "    </tr>\n",
       "    <tr>\n",
       "      <th>purpose</th>\n",
       "      <th></th>\n",
       "    </tr>\n",
       "  </thead>\n",
       "  <tbody>\n",
       "    <tr>\n",
       "      <td>car</td>\n",
       "      <td>9393.720068</td>\n",
       "    </tr>\n",
       "    <tr>\n",
       "      <td>credit_card</td>\n",
       "      <td>15319.730362</td>\n",
       "    </tr>\n",
       "    <tr>\n",
       "      <td>debt_consolidation</td>\n",
       "      <td>15966.695954</td>\n",
       "    </tr>\n",
       "    <tr>\n",
       "      <td>educational</td>\n",
       "      <td>6614.622642</td>\n",
       "    </tr>\n",
       "    <tr>\n",
       "      <td>home_improvement</td>\n",
       "      <td>14666.147969</td>\n",
       "    </tr>\n",
       "    <tr>\n",
       "      <td>house</td>\n",
       "      <td>15703.917303</td>\n",
       "    </tr>\n",
       "    <tr>\n",
       "      <td>major_purchase</td>\n",
       "      <td>12682.430370</td>\n",
       "    </tr>\n",
       "    <tr>\n",
       "      <td>medical</td>\n",
       "      <td>9474.190556</td>\n",
       "    </tr>\n",
       "    <tr>\n",
       "      <td>moving</td>\n",
       "      <td>8390.811855</td>\n",
       "    </tr>\n",
       "    <tr>\n",
       "      <td>other</td>\n",
       "      <td>10481.091150</td>\n",
       "    </tr>\n",
       "    <tr>\n",
       "      <td>renewable_energy</td>\n",
       "      <td>10757.024221</td>\n",
       "    </tr>\n",
       "    <tr>\n",
       "      <td>small_business</td>\n",
       "      <td>16442.694115</td>\n",
       "    </tr>\n",
       "    <tr>\n",
       "      <td>vacation</td>\n",
       "      <td>6357.995169</td>\n",
       "    </tr>\n",
       "    <tr>\n",
       "      <td>wedding</td>\n",
       "      <td>10475.859873</td>\n",
       "    </tr>\n",
       "  </tbody>\n",
       "</table>\n",
       "</div>"
      ],
      "text/plain": [
       "                       loan_amnt\n",
       "purpose                         \n",
       "car                  9393.720068\n",
       "credit_card         15319.730362\n",
       "debt_consolidation  15966.695954\n",
       "educational          6614.622642\n",
       "home_improvement    14666.147969\n",
       "house               15703.917303\n",
       "major_purchase      12682.430370\n",
       "medical              9474.190556\n",
       "moving               8390.811855\n",
       "other               10481.091150\n",
       "renewable_energy    10757.024221\n",
       "small_business      16442.694115\n",
       "vacation             6357.995169\n",
       "wedding             10475.859873"
      ]
     },
     "execution_count": 21,
     "metadata": {},
     "output_type": "execute_result"
    }
   ],
   "source": [
    "loan_group3 = pertinent_loans_df.groupby(\"purpose\").mean()[[\"loan_amnt\"]]\n",
    "loan_group3\n",
    "\n"
   ]
  },
  {
   "cell_type": "markdown",
   "metadata": {},
   "source": [
    "100 loans from each tier "
   ]
  },
  {
   "cell_type": "code",
   "execution_count": null,
   "metadata": {},
   "outputs": [],
   "source": [
    "##df.iloc[np.random.randint(1,1000), :]"
   ]
  },
  {
   "cell_type": "code",
   "execution_count": 22,
   "metadata": {
    "scrolled": true
   },
   "outputs": [
    {
     "data": {
      "image/png": "[encoded data removed]",
      "text/plain": [
       "<Figure size 432x288 with 1 Axes>"
      ]
     },
     "metadata": {
      "needs_background": "light"
     },
     "output_type": "display_data"
    }
   ],
   "source": [
    "plt.scatter(pertinent_loans_df[\"dti\"], pertinent_loans_df[\"loan_amnt\"], marker=\"o\", s=10,)\n",
    "\n",
    "plt.title(\"Loan Amount vs DTI\")\n",
    "plt.xlabel(\"DTI\")\n",
    "plt.ylabel(\"Loan Amount\")\n",
    "plt.grid(True)\n",
    "\n",
    "plt.savefig(\"Loan Amount vs DTI\")\n",
    "plt.show()\n"
   ]
  },
  {
   "cell_type": "code",
   "execution_count": 23,
   "metadata": {},
   "outputs": [
    {
     "data": {
      "text/plain": [
       "count    2.258957e+06\n",
       "mean     1.882420e+01\n",
       "std      1.418333e+01\n",
       "min     -1.000000e+00\n",
       "25%      1.189000e+01\n",
       "50%      1.784000e+01\n",
       "75%      2.449000e+01\n",
       "max      9.990000e+02\n",
       "Name: dti, dtype: float64"
      ]
     },
     "execution_count": 23,
     "metadata": {},
     "output_type": "execute_result"
    }
   ],
   "source": [
    "pertinent_loans_df[\"dti\"].describe()"
   ]
  },
  {
   "cell_type": "code",
   "execution_count": 24,
   "metadata": {},
   "outputs": [
    {
     "data": {
      "text/plain": [
       "-1.0"
      ]
     },
     "execution_count": 24,
     "metadata": {},
     "output_type": "execute_result"
    }
   ],
   "source": [
    "pertinent_loans_df[\"dti\"].min()"
   ]
  },
  {
   "cell_type": "code",
   "execution_count": 25,
   "metadata": {},
   "outputs": [
    {
     "data": {
      "text/plain": [
       "999.0"
      ]
     },
     "execution_count": 25,
     "metadata": {},
     "output_type": "execute_result"
    }
   ],
   "source": [
    "pertinent_loans_df[\"dti\"].max()"
   ]
  },
  {
   "cell_type": "code",
   "execution_count": null,
   "metadata": {},
   "outputs": [],
   "source": []
  }
 ],
 "metadata": {
  "kernelspec": {
   "display_name": "Python 3",
   "language": "python",
   "name": "python3"
  },
  "language_info": {
   "codemirror_mode": {
    "name": "ipython",
    "version": 3
   },
   "file_extension": ".py",
   "mimetype": "text/x-python",
   "name": "python",
   "nbconvert_exporter": "python",
   "pygments_lexer": "ipython3",
   "version": "3.7.4"
  }
 },
 "nbformat": 4,
 "nbformat_minor": 2
}
