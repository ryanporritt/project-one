{
 "cells": [
  {
   "cell_type": "code",
   "execution_count": 1,
   "metadata": {},
   "outputs": [
    {
     "name": "stdout",
     "output_type": "stream",
     "text": [
      "loan.csv\n"
     ]
    }
   ],
   "source": [
    "import os\n",
    "import random\n",
    "import pandas as pd\n",
    "import gmaps\n",
    "import requests \n",
    "import json\n",
    "import time\n",
    "import numpy as np\n",
    "from us import states\n",
    "from config import (gkey)\n",
    "\n",
    "\n",
    "# Set path for file\n",
    "csvpath = os.path.join(\"loan.csv\")\n",
    "print(csvpath)"
   ]
  },
  {
   "cell_type": "code",
   "execution_count": 2,
   "metadata": {},
   "outputs": [
    {
     "name": "stderr",
     "output_type": "stream",
     "text": [
      "C:\\Users\\Ryanj\\Anaconda3\\envs\\PythonData\\lib\\site-packages\\IPython\\core\\interactiveshell.py:3058: DtypeWarning: Columns (19,47,55,112,123,124,125,128,129,130,133,139,140,141) have mixed types. Specify dtype option on import or set low_memory=False.\n",
      "  interactivity=interactivity, compiler=compiler, result=result)\n"
     ]
    },
    {
     "data": {
      "text/html": [
       "<div>\n",
       "<style scoped>\n",
       "    .dataframe tbody tr th:only-of-type {\n",
       "        vertical-align: middle;\n",
       "    }\n",
       "\n",
       "    .dataframe tbody tr th {\n",
       "        vertical-align: top;\n",
       "    }\n",
       "\n",
       "    .dataframe thead th {\n",
       "        text-align: right;\n",
       "    }\n",
       "</style>\n",
       "<table border=\"1\" class=\"dataframe\">\n",
       "  <thead>\n",
       "    <tr style=\"text-align: right;\">\n",
       "      <th></th>\n",
       "      <th>id</th>\n",
       "      <th>member_id</th>\n",
       "      <th>loan_amnt</th>\n",
       "      <th>funded_amnt</th>\n",
       "      <th>funded_amnt_inv</th>\n",
       "      <th>term</th>\n",
       "      <th>int_rate</th>\n",
       "      <th>installment</th>\n",
       "      <th>grade</th>\n",
       "      <th>sub_grade</th>\n",
       "      <th>...</th>\n",
       "      <th>hardship_payoff_balance_amount</th>\n",
       "      <th>hardship_last_payment_amount</th>\n",
       "      <th>disbursement_method</th>\n",
       "      <th>debt_settlement_flag</th>\n",
       "      <th>debt_settlement_flag_date</th>\n",
       "      <th>settlement_status</th>\n",
       "      <th>settlement_date</th>\n",
       "      <th>settlement_amount</th>\n",
       "      <th>settlement_percentage</th>\n",
       "      <th>settlement_term</th>\n",
       "    </tr>\n",
       "  </thead>\n",
       "  <tbody>\n",
       "    <tr>\n",
       "      <td>0</td>\n",
       "      <td>NaN</td>\n",
       "      <td>NaN</td>\n",
       "      <td>2500</td>\n",
       "      <td>2500</td>\n",
       "      <td>2500.0</td>\n",
       "      <td>36 months</td>\n",
       "      <td>13.56</td>\n",
       "      <td>84.92</td>\n",
       "      <td>C</td>\n",
       "      <td>C1</td>\n",
       "      <td>...</td>\n",
       "      <td>NaN</td>\n",
       "      <td>NaN</td>\n",
       "      <td>Cash</td>\n",
       "      <td>N</td>\n",
       "      <td>NaN</td>\n",
       "      <td>NaN</td>\n",
       "      <td>NaN</td>\n",
       "      <td>NaN</td>\n",
       "      <td>NaN</td>\n",
       "      <td>NaN</td>\n",
       "    </tr>\n",
       "    <tr>\n",
       "      <td>1</td>\n",
       "      <td>NaN</td>\n",
       "      <td>NaN</td>\n",
       "      <td>30000</td>\n",
       "      <td>30000</td>\n",
       "      <td>30000.0</td>\n",
       "      <td>60 months</td>\n",
       "      <td>18.94</td>\n",
       "      <td>777.23</td>\n",
       "      <td>D</td>\n",
       "      <td>D2</td>\n",
       "      <td>...</td>\n",
       "      <td>NaN</td>\n",
       "      <td>NaN</td>\n",
       "      <td>Cash</td>\n",
       "      <td>N</td>\n",
       "      <td>NaN</td>\n",
       "      <td>NaN</td>\n",
       "      <td>NaN</td>\n",
       "      <td>NaN</td>\n",
       "      <td>NaN</td>\n",
       "      <td>NaN</td>\n",
       "    </tr>\n",
       "    <tr>\n",
       "      <td>2</td>\n",
       "      <td>NaN</td>\n",
       "      <td>NaN</td>\n",
       "      <td>5000</td>\n",
       "      <td>5000</td>\n",
       "      <td>5000.0</td>\n",
       "      <td>36 months</td>\n",
       "      <td>17.97</td>\n",
       "      <td>180.69</td>\n",
       "      <td>D</td>\n",
       "      <td>D1</td>\n",
       "      <td>...</td>\n",
       "      <td>NaN</td>\n",
       "      <td>NaN</td>\n",
       "      <td>Cash</td>\n",
       "      <td>N</td>\n",
       "      <td>NaN</td>\n",
       "      <td>NaN</td>\n",
       "      <td>NaN</td>\n",
       "      <td>NaN</td>\n",
       "      <td>NaN</td>\n",
       "      <td>NaN</td>\n",
       "    </tr>\n",
       "    <tr>\n",
       "      <td>3</td>\n",
       "      <td>NaN</td>\n",
       "      <td>NaN</td>\n",
       "      <td>4000</td>\n",
       "      <td>4000</td>\n",
       "      <td>4000.0</td>\n",
       "      <td>36 months</td>\n",
       "      <td>18.94</td>\n",
       "      <td>146.51</td>\n",
       "      <td>D</td>\n",
       "      <td>D2</td>\n",
       "      <td>...</td>\n",
       "      <td>NaN</td>\n",
       "      <td>NaN</td>\n",
       "      <td>Cash</td>\n",
       "      <td>N</td>\n",
       "      <td>NaN</td>\n",
       "      <td>NaN</td>\n",
       "      <td>NaN</td>\n",
       "      <td>NaN</td>\n",
       "      <td>NaN</td>\n",
       "      <td>NaN</td>\n",
       "    </tr>\n",
       "    <tr>\n",
       "      <td>4</td>\n",
       "      <td>NaN</td>\n",
       "      <td>NaN</td>\n",
       "      <td>30000</td>\n",
       "      <td>30000</td>\n",
       "      <td>30000.0</td>\n",
       "      <td>60 months</td>\n",
       "      <td>16.14</td>\n",
       "      <td>731.78</td>\n",
       "      <td>C</td>\n",
       "      <td>C4</td>\n",
       "      <td>...</td>\n",
       "      <td>NaN</td>\n",
       "      <td>NaN</td>\n",
       "      <td>Cash</td>\n",
       "      <td>N</td>\n",
       "      <td>NaN</td>\n",
       "      <td>NaN</td>\n",
       "      <td>NaN</td>\n",
       "      <td>NaN</td>\n",
       "      <td>NaN</td>\n",
       "      <td>NaN</td>\n",
       "    </tr>\n",
       "  </tbody>\n",
       "</table>\n",
       "<p>5 rows × 145 columns</p>\n",
       "</div>"
      ],
      "text/plain": [
       "   id  member_id  loan_amnt  funded_amnt  funded_amnt_inv        term  \\\n",
       "0 NaN        NaN       2500         2500           2500.0   36 months   \n",
       "1 NaN        NaN      30000        30000          30000.0   60 months   \n",
       "2 NaN        NaN       5000         5000           5000.0   36 months   \n",
       "3 NaN        NaN       4000         4000           4000.0   36 months   \n",
       "4 NaN        NaN      30000        30000          30000.0   60 months   \n",
       "\n",
       "   int_rate  installment grade sub_grade  ... hardship_payoff_balance_amount  \\\n",
       "0     13.56        84.92     C        C1  ...                            NaN   \n",
       "1     18.94       777.23     D        D2  ...                            NaN   \n",
       "2     17.97       180.69     D        D1  ...                            NaN   \n",
       "3     18.94       146.51     D        D2  ...                            NaN   \n",
       "4     16.14       731.78     C        C4  ...                            NaN   \n",
       "\n",
       "  hardship_last_payment_amount disbursement_method  debt_settlement_flag  \\\n",
       "0                          NaN                Cash                     N   \n",
       "1                          NaN                Cash                     N   \n",
       "2                          NaN                Cash                     N   \n",
       "3                          NaN                Cash                     N   \n",
       "4                          NaN                Cash                     N   \n",
       "\n",
       "  debt_settlement_flag_date settlement_status settlement_date  \\\n",
       "0                       NaN               NaN             NaN   \n",
       "1                       NaN               NaN             NaN   \n",
       "2                       NaN               NaN             NaN   \n",
       "3                       NaN               NaN             NaN   \n",
       "4                       NaN               NaN             NaN   \n",
       "\n",
       "  settlement_amount  settlement_percentage settlement_term  \n",
       "0               NaN                    NaN             NaN  \n",
       "1               NaN                    NaN             NaN  \n",
       "2               NaN                    NaN             NaN  \n",
       "3               NaN                    NaN             NaN  \n",
       "4               NaN                    NaN             NaN  \n",
       "\n",
       "[5 rows x 145 columns]"
      ]
     },
     "execution_count": 2,
     "metadata": {},
     "output_type": "execute_result"
    }
   ],
   "source": [
    "loans_df = pd.read_csv(csvpath)\n",
    "loans_df.head()"
   ]
  },
  {
   "cell_type": "code",
   "execution_count": 3,
   "metadata": {},
   "outputs": [
    {
     "data": {
      "text/html": [
       "<div>\n",
       "<style scoped>\n",
       "    .dataframe tbody tr th:only-of-type {\n",
       "        vertical-align: middle;\n",
       "    }\n",
       "\n",
       "    .dataframe tbody tr th {\n",
       "        vertical-align: top;\n",
       "    }\n",
       "\n",
       "    .dataframe thead th {\n",
       "        text-align: right;\n",
       "    }\n",
       "</style>\n",
       "<table border=\"1\" class=\"dataframe\">\n",
       "  <thead>\n",
       "    <tr style=\"text-align: right;\">\n",
       "      <th></th>\n",
       "      <th>annual_inc</th>\n",
       "      <th>loan_amnt</th>\n",
       "      <th>term</th>\n",
       "      <th>int_rate</th>\n",
       "      <th>total_pymnt</th>\n",
       "      <th>issue_d</th>\n",
       "      <th>addr_state</th>\n",
       "      <th>zip_code</th>\n",
       "    </tr>\n",
       "  </thead>\n",
       "  <tbody>\n",
       "    <tr>\n",
       "      <td>0</td>\n",
       "      <td>55000.0</td>\n",
       "      <td>2500</td>\n",
       "      <td>36 months</td>\n",
       "      <td>13.56</td>\n",
       "      <td>167.020000</td>\n",
       "      <td>Dec-2018</td>\n",
       "      <td>NY</td>\n",
       "      <td>109xx</td>\n",
       "    </tr>\n",
       "    <tr>\n",
       "      <td>1</td>\n",
       "      <td>90000.0</td>\n",
       "      <td>30000</td>\n",
       "      <td>60 months</td>\n",
       "      <td>18.94</td>\n",
       "      <td>1507.110000</td>\n",
       "      <td>Dec-2018</td>\n",
       "      <td>LA</td>\n",
       "      <td>713xx</td>\n",
       "    </tr>\n",
       "    <tr>\n",
       "      <td>2</td>\n",
       "      <td>59280.0</td>\n",
       "      <td>5000</td>\n",
       "      <td>36 months</td>\n",
       "      <td>17.97</td>\n",
       "      <td>353.890000</td>\n",
       "      <td>Dec-2018</td>\n",
       "      <td>MI</td>\n",
       "      <td>490xx</td>\n",
       "    </tr>\n",
       "    <tr>\n",
       "      <td>3</td>\n",
       "      <td>92000.0</td>\n",
       "      <td>4000</td>\n",
       "      <td>36 months</td>\n",
       "      <td>18.94</td>\n",
       "      <td>286.710000</td>\n",
       "      <td>Dec-2018</td>\n",
       "      <td>WA</td>\n",
       "      <td>985xx</td>\n",
       "    </tr>\n",
       "    <tr>\n",
       "      <td>4</td>\n",
       "      <td>57250.0</td>\n",
       "      <td>30000</td>\n",
       "      <td>60 months</td>\n",
       "      <td>16.14</td>\n",
       "      <td>1423.210000</td>\n",
       "      <td>Dec-2018</td>\n",
       "      <td>MD</td>\n",
       "      <td>212xx</td>\n",
       "    </tr>\n",
       "    <tr>\n",
       "      <td>...</td>\n",
       "      <td>...</td>\n",
       "      <td>...</td>\n",
       "      <td>...</td>\n",
       "      <td>...</td>\n",
       "      <td>...</td>\n",
       "      <td>...</td>\n",
       "      <td>...</td>\n",
       "      <td>...</td>\n",
       "    </tr>\n",
       "    <tr>\n",
       "      <td>2260663</td>\n",
       "      <td>58000.0</td>\n",
       "      <td>12000</td>\n",
       "      <td>60 months</td>\n",
       "      <td>14.08</td>\n",
       "      <td>5360.960000</td>\n",
       "      <td>Oct-2017</td>\n",
       "      <td>VT</td>\n",
       "      <td>054xx</td>\n",
       "    </tr>\n",
       "    <tr>\n",
       "      <td>2260664</td>\n",
       "      <td>30000.0</td>\n",
       "      <td>12000</td>\n",
       "      <td>60 months</td>\n",
       "      <td>25.82</td>\n",
       "      <td>14499.802172</td>\n",
       "      <td>Oct-2017</td>\n",
       "      <td>OR</td>\n",
       "      <td>971xx</td>\n",
       "    </tr>\n",
       "    <tr>\n",
       "      <td>2260665</td>\n",
       "      <td>64000.0</td>\n",
       "      <td>10000</td>\n",
       "      <td>36 months</td>\n",
       "      <td>11.99</td>\n",
       "      <td>5306.940000</td>\n",
       "      <td>Oct-2017</td>\n",
       "      <td>IL</td>\n",
       "      <td>603xx</td>\n",
       "    </tr>\n",
       "    <tr>\n",
       "      <td>2260666</td>\n",
       "      <td>60000.0</td>\n",
       "      <td>12000</td>\n",
       "      <td>60 months</td>\n",
       "      <td>21.45</td>\n",
       "      <td>5207.290000</td>\n",
       "      <td>Oct-2017</td>\n",
       "      <td>AK</td>\n",
       "      <td>996xx</td>\n",
       "    </tr>\n",
       "    <tr>\n",
       "      <td>2260667</td>\n",
       "      <td>60000.0</td>\n",
       "      <td>16550</td>\n",
       "      <td>60 months</td>\n",
       "      <td>21.45</td>\n",
       "      <td>7355.500000</td>\n",
       "      <td>Oct-2017</td>\n",
       "      <td>NY</td>\n",
       "      <td>112xx</td>\n",
       "    </tr>\n",
       "  </tbody>\n",
       "</table>\n",
       "<p>2260668 rows × 8 columns</p>\n",
       "</div>"
      ],
      "text/plain": [
       "         annual_inc  loan_amnt        term  int_rate   total_pymnt   issue_d  \\\n",
       "0           55000.0       2500   36 months     13.56    167.020000  Dec-2018   \n",
       "1           90000.0      30000   60 months     18.94   1507.110000  Dec-2018   \n",
       "2           59280.0       5000   36 months     17.97    353.890000  Dec-2018   \n",
       "3           92000.0       4000   36 months     18.94    286.710000  Dec-2018   \n",
       "4           57250.0      30000   60 months     16.14   1423.210000  Dec-2018   \n",
       "...             ...        ...         ...       ...           ...       ...   \n",
       "2260663     58000.0      12000   60 months     14.08   5360.960000  Oct-2017   \n",
       "2260664     30000.0      12000   60 months     25.82  14499.802172  Oct-2017   \n",
       "2260665     64000.0      10000   36 months     11.99   5306.940000  Oct-2017   \n",
       "2260666     60000.0      12000   60 months     21.45   5207.290000  Oct-2017   \n",
       "2260667     60000.0      16550   60 months     21.45   7355.500000  Oct-2017   \n",
       "\n",
       "        addr_state zip_code  \n",
       "0               NY    109xx  \n",
       "1               LA    713xx  \n",
       "2               MI    490xx  \n",
       "3               WA    985xx  \n",
       "4               MD    212xx  \n",
       "...            ...      ...  \n",
       "2260663         VT    054xx  \n",
       "2260664         OR    971xx  \n",
       "2260665         IL    603xx  \n",
       "2260666         AK    996xx  \n",
       "2260667         NY    112xx  \n",
       "\n",
       "[2260668 rows x 8 columns]"
      ]
     },
     "execution_count": 3,
     "metadata": {},
     "output_type": "execute_result"
    }
   ],
   "source": [
    "pertinent_loans_df = loans_df[[ \"annual_inc\", \"loan_amnt\", \"term\", \"int_rate\", \"total_pymnt\", \"issue_d\", \"addr_state\", \"zip_code\"]]\n",
    "pertinent_loans_df"
   ]
  },
  {
   "cell_type": "code",
   "execution_count": 4,
   "metadata": {},
   "outputs": [
    {
     "data": {
      "text/plain": [
       "110000000.0"
      ]
     },
     "execution_count": 4,
     "metadata": {},
     "output_type": "execute_result"
    }
   ],
   "source": [
    "pertinent_loans_df[\"annual_inc\"].max()"
   ]
  },
  {
   "cell_type": "code",
   "execution_count": 5,
   "metadata": {},
   "outputs": [
    {
     "name": "stdout",
     "output_type": "stream",
     "text": [
      "2260664\n"
     ]
    }
   ],
   "source": [
    "totalNumberOfLoans = pertinent_loans_df[\"annual_inc\"].count()\n",
    "print(totalNumberOfLoans)"
   ]
  },
  {
   "cell_type": "code",
   "execution_count": 6,
   "metadata": {},
   "outputs": [],
   "source": [
    "# Create the bins in which annual_inc will be held, based on tax brackets\n",
    "bins = [0, 9700, 39475, 84200, 160725, 204100, 510300, 110000000]\n",
    "\n",
    "\n",
    "# Create the names for the four bins\n",
    "income_tiers = [\"Tier_One\", \"Tier_Two\", \"Tier_Three\", \"Tier_Four\", \"Tier_Five\", \"Tier_Six\", \"Tier_Seven\"]"
   ]
  },
  {
   "cell_type": "code",
   "execution_count": 7,
   "metadata": {},
   "outputs": [
    {
     "data": {
      "text/plain": [
       "0    Tier_Three\n",
       "1     Tier_Four\n",
       "2    Tier_Three\n",
       "3     Tier_Four\n",
       "4    Tier_Three\n",
       "Name: annual_inc, dtype: category\n",
       "Categories (7, object): [Tier_One < Tier_Two < Tier_Three < Tier_Four < Tier_Five < Tier_Six < Tier_Seven]"
      ]
     },
     "execution_count": 7,
     "metadata": {},
     "output_type": "execute_result"
    }
   ],
   "source": [
    "a = pd.cut(pertinent_loans_df[\"annual_inc\"], bins, labels=income_tiers)\n",
    "a.head()"
   ]
  },
  {
   "cell_type": "code",
   "execution_count": 8,
   "metadata": {},
   "outputs": [
    {
     "name": "stderr",
     "output_type": "stream",
     "text": [
      "C:\\Users\\Ryanj\\Anaconda3\\envs\\PythonData\\lib\\site-packages\\ipykernel_launcher.py:1: SettingWithCopyWarning: \n",
      "A value is trying to be set on a copy of a slice from a DataFrame.\n",
      "Try using .loc[row_indexer,col_indexer] = value instead\n",
      "\n",
      "See the caveats in the documentation: http://pandas.pydata.org/pandas-docs/stable/user_guide/indexing.html#returning-a-view-versus-a-copy\n",
      "  \"\"\"Entry point for launching an IPython kernel.\n"
     ]
    },
    {
     "data": {
      "text/html": [
       "<div>\n",
       "<style scoped>\n",
       "    .dataframe tbody tr th:only-of-type {\n",
       "        vertical-align: middle;\n",
       "    }\n",
       "\n",
       "    .dataframe tbody tr th {\n",
       "        vertical-align: top;\n",
       "    }\n",
       "\n",
       "    .dataframe thead th {\n",
       "        text-align: right;\n",
       "    }\n",
       "</style>\n",
       "<table border=\"1\" class=\"dataframe\">\n",
       "  <thead>\n",
       "    <tr style=\"text-align: right;\">\n",
       "      <th></th>\n",
       "      <th>annual_inc</th>\n",
       "      <th>loan_amnt</th>\n",
       "      <th>term</th>\n",
       "      <th>int_rate</th>\n",
       "      <th>total_pymnt</th>\n",
       "      <th>issue_d</th>\n",
       "      <th>addr_state</th>\n",
       "      <th>zip_code</th>\n",
       "      <th>tier_group</th>\n",
       "    </tr>\n",
       "  </thead>\n",
       "  <tbody>\n",
       "    <tr>\n",
       "      <td>0</td>\n",
       "      <td>55000.0</td>\n",
       "      <td>2500</td>\n",
       "      <td>36 months</td>\n",
       "      <td>13.56</td>\n",
       "      <td>167.02</td>\n",
       "      <td>Dec-2018</td>\n",
       "      <td>NY</td>\n",
       "      <td>109xx</td>\n",
       "      <td>Tier_Three</td>\n",
       "    </tr>\n",
       "    <tr>\n",
       "      <td>1</td>\n",
       "      <td>90000.0</td>\n",
       "      <td>30000</td>\n",
       "      <td>60 months</td>\n",
       "      <td>18.94</td>\n",
       "      <td>1507.11</td>\n",
       "      <td>Dec-2018</td>\n",
       "      <td>LA</td>\n",
       "      <td>713xx</td>\n",
       "      <td>Tier_Four</td>\n",
       "    </tr>\n",
       "    <tr>\n",
       "      <td>2</td>\n",
       "      <td>59280.0</td>\n",
       "      <td>5000</td>\n",
       "      <td>36 months</td>\n",
       "      <td>17.97</td>\n",
       "      <td>353.89</td>\n",
       "      <td>Dec-2018</td>\n",
       "      <td>MI</td>\n",
       "      <td>490xx</td>\n",
       "      <td>Tier_Three</td>\n",
       "    </tr>\n",
       "    <tr>\n",
       "      <td>3</td>\n",
       "      <td>92000.0</td>\n",
       "      <td>4000</td>\n",
       "      <td>36 months</td>\n",
       "      <td>18.94</td>\n",
       "      <td>286.71</td>\n",
       "      <td>Dec-2018</td>\n",
       "      <td>WA</td>\n",
       "      <td>985xx</td>\n",
       "      <td>Tier_Four</td>\n",
       "    </tr>\n",
       "    <tr>\n",
       "      <td>4</td>\n",
       "      <td>57250.0</td>\n",
       "      <td>30000</td>\n",
       "      <td>60 months</td>\n",
       "      <td>16.14</td>\n",
       "      <td>1423.21</td>\n",
       "      <td>Dec-2018</td>\n",
       "      <td>MD</td>\n",
       "      <td>212xx</td>\n",
       "      <td>Tier_Three</td>\n",
       "    </tr>\n",
       "  </tbody>\n",
       "</table>\n",
       "</div>"
      ],
      "text/plain": [
       "   annual_inc  loan_amnt        term  int_rate  total_pymnt   issue_d  \\\n",
       "0     55000.0       2500   36 months     13.56       167.02  Dec-2018   \n",
       "1     90000.0      30000   60 months     18.94      1507.11  Dec-2018   \n",
       "2     59280.0       5000   36 months     17.97       353.89  Dec-2018   \n",
       "3     92000.0       4000   36 months     18.94       286.71  Dec-2018   \n",
       "4     57250.0      30000   60 months     16.14      1423.21  Dec-2018   \n",
       "\n",
       "  addr_state zip_code  tier_group  \n",
       "0         NY    109xx  Tier_Three  \n",
       "1         LA    713xx   Tier_Four  \n",
       "2         MI    490xx  Tier_Three  \n",
       "3         WA    985xx   Tier_Four  \n",
       "4         MD    212xx  Tier_Three  "
      ]
     },
     "execution_count": 8,
     "metadata": {},
     "output_type": "execute_result"
    }
   ],
   "source": [
    "pertinent_loans_df[\"tier_group\"] = a\n",
    "pertinent_loans_df.head()"
   ]
  },
  {
   "cell_type": "code",
   "execution_count": 9,
   "metadata": {},
   "outputs": [
    {
     "name": "stdout",
     "output_type": "stream",
     "text": [
      "tier_group\n",
      "Tier_One         2954\n",
      "Tier_Two       343095\n",
      "Tier_Three    1196274\n",
      "Tier_Four      604591\n",
      "Tier_Five       59806\n",
      "Tier_Six        48894\n",
      "Tier_Seven       3383\n",
      "Name: annual_inc, dtype: int64\n"
     ]
    },
    {
     "data": {
      "text/html": [
       "<div>\n",
       "<style scoped>\n",
       "    .dataframe tbody tr th:only-of-type {\n",
       "        vertical-align: middle;\n",
       "    }\n",
       "\n",
       "    .dataframe tbody tr th {\n",
       "        vertical-align: top;\n",
       "    }\n",
       "\n",
       "    .dataframe thead th {\n",
       "        text-align: right;\n",
       "    }\n",
       "</style>\n",
       "<table border=\"1\" class=\"dataframe\">\n",
       "  <thead>\n",
       "    <tr style=\"text-align: right;\">\n",
       "      <th></th>\n",
       "      <th>int_rate</th>\n",
       "      <th>loan_amnt</th>\n",
       "      <th>annual_inc</th>\n",
       "    </tr>\n",
       "    <tr>\n",
       "      <th>tier_group</th>\n",
       "      <th></th>\n",
       "      <th></th>\n",
       "      <th></th>\n",
       "    </tr>\n",
       "  </thead>\n",
       "  <tbody>\n",
       "    <tr>\n",
       "      <td>Tier_One</td>\n",
       "      <td>14.813074</td>\n",
       "      <td>11096.267773</td>\n",
       "      <td>6.529720e+03</td>\n",
       "    </tr>\n",
       "    <tr>\n",
       "      <td>Tier_Two</td>\n",
       "      <td>13.962959</td>\n",
       "      <td>8677.464842</td>\n",
       "      <td>2.989422e+04</td>\n",
       "    </tr>\n",
       "    <tr>\n",
       "      <td>Tier_Three</td>\n",
       "      <td>13.252005</td>\n",
       "      <td>13711.771613</td>\n",
       "      <td>5.970080e+04</td>\n",
       "    </tr>\n",
       "    <tr>\n",
       "      <td>Tier_Four</td>\n",
       "      <td>12.506046</td>\n",
       "      <td>19535.365230</td>\n",
       "      <td>1.101832e+05</td>\n",
       "    </tr>\n",
       "    <tr>\n",
       "      <td>Tier_Five</td>\n",
       "      <td>11.945691</td>\n",
       "      <td>23553.136809</td>\n",
       "      <td>1.814288e+05</td>\n",
       "    </tr>\n",
       "    <tr>\n",
       "      <td>Tier_Six</td>\n",
       "      <td>11.709249</td>\n",
       "      <td>25823.841371</td>\n",
       "      <td>2.769104e+05</td>\n",
       "    </tr>\n",
       "    <tr>\n",
       "      <td>Tier_Seven</td>\n",
       "      <td>11.682722</td>\n",
       "      <td>26295.876441</td>\n",
       "      <td>1.068499e+06</td>\n",
       "    </tr>\n",
       "  </tbody>\n",
       "</table>\n",
       "</div>"
      ],
      "text/plain": [
       "             int_rate     loan_amnt    annual_inc\n",
       "tier_group                                       \n",
       "Tier_One    14.813074  11096.267773  6.529720e+03\n",
       "Tier_Two    13.962959   8677.464842  2.989422e+04\n",
       "Tier_Three  13.252005  13711.771613  5.970080e+04\n",
       "Tier_Four   12.506046  19535.365230  1.101832e+05\n",
       "Tier_Five   11.945691  23553.136809  1.814288e+05\n",
       "Tier_Six    11.709249  25823.841371  2.769104e+05\n",
       "Tier_Seven  11.682722  26295.876441  1.068499e+06"
      ]
     },
     "execution_count": 9,
     "metadata": {},
     "output_type": "execute_result"
    }
   ],
   "source": [
    "# Create a GroupBy object based upon \"View Group\"\n",
    "loan_group = pertinent_loans_df.groupby(\"tier_group\")\n",
    "\n",
    "# Find how many rows fall into each bin\n",
    "print(loan_group[\"annual_inc\"].count())\n",
    "\n",
    "# Get the average of each column within the GroupBy object\n",
    "loan_group[[\"int_rate\", \"loan_amnt\", \"annual_inc\"]].mean()"
   ]
  },
  {
   "cell_type": "code",
   "execution_count": 10,
   "metadata": {},
   "outputs": [
    {
     "data": {
      "text/html": [
       "<div>\n",
       "<style scoped>\n",
       "    .dataframe tbody tr th:only-of-type {\n",
       "        vertical-align: middle;\n",
       "    }\n",
       "\n",
       "    .dataframe tbody tr th {\n",
       "        vertical-align: top;\n",
       "    }\n",
       "\n",
       "    .dataframe thead th {\n",
       "        text-align: right;\n",
       "    }\n",
       "</style>\n",
       "<table border=\"1\" class=\"dataframe\">\n",
       "  <thead>\n",
       "    <tr style=\"text-align: right;\">\n",
       "      <th></th>\n",
       "      <th>annual_inc</th>\n",
       "      <th>loan_amnt</th>\n",
       "      <th>term</th>\n",
       "      <th>int_rate</th>\n",
       "      <th>total_pymnt</th>\n",
       "      <th>issue_d</th>\n",
       "      <th>addr_state</th>\n",
       "      <th>zip_code</th>\n",
       "      <th>tier_group</th>\n",
       "    </tr>\n",
       "  </thead>\n",
       "  <tbody>\n",
       "    <tr>\n",
       "      <td>2071303</td>\n",
       "      <td>110000.0</td>\n",
       "      <td>20000</td>\n",
       "      <td>36 months</td>\n",
       "      <td>17.57</td>\n",
       "      <td>2838.700000</td>\n",
       "      <td>Feb-2014</td>\n",
       "      <td>MI</td>\n",
       "      <td>488xx</td>\n",
       "      <td>Tier_Four</td>\n",
       "    </tr>\n",
       "    <tr>\n",
       "      <td>1339284</td>\n",
       "      <td>85000.0</td>\n",
       "      <td>20000</td>\n",
       "      <td>60 months</td>\n",
       "      <td>14.31</td>\n",
       "      <td>23704.610000</td>\n",
       "      <td>Jan-2015</td>\n",
       "      <td>IN</td>\n",
       "      <td>473xx</td>\n",
       "      <td>Tier_Four</td>\n",
       "    </tr>\n",
       "    <tr>\n",
       "      <td>61827</td>\n",
       "      <td>65000.0</td>\n",
       "      <td>5000</td>\n",
       "      <td>36 months</td>\n",
       "      <td>15.02</td>\n",
       "      <td>661.800000</td>\n",
       "      <td>Nov-2018</td>\n",
       "      <td>AL</td>\n",
       "      <td>368xx</td>\n",
       "      <td>Tier_Three</td>\n",
       "    </tr>\n",
       "    <tr>\n",
       "      <td>1051089</td>\n",
       "      <td>110500.0</td>\n",
       "      <td>28000</td>\n",
       "      <td>36 months</td>\n",
       "      <td>7.26</td>\n",
       "      <td>30867.108182</td>\n",
       "      <td>Oct-2015</td>\n",
       "      <td>AK</td>\n",
       "      <td>997xx</td>\n",
       "      <td>Tier_Four</td>\n",
       "    </tr>\n",
       "    <tr>\n",
       "      <td>1571946</td>\n",
       "      <td>100000.0</td>\n",
       "      <td>12000</td>\n",
       "      <td>36 months</td>\n",
       "      <td>9.44</td>\n",
       "      <td>7668.610000</td>\n",
       "      <td>Jun-2017</td>\n",
       "      <td>CA</td>\n",
       "      <td>958xx</td>\n",
       "      <td>Tier_Four</td>\n",
       "    </tr>\n",
       "  </tbody>\n",
       "</table>\n",
       "</div>"
      ],
      "text/plain": [
       "         annual_inc  loan_amnt        term  int_rate   total_pymnt   issue_d  \\\n",
       "2071303    110000.0      20000   36 months     17.57   2838.700000  Feb-2014   \n",
       "1339284     85000.0      20000   60 months     14.31  23704.610000  Jan-2015   \n",
       "61827       65000.0       5000   36 months     15.02    661.800000  Nov-2018   \n",
       "1051089    110500.0      28000   36 months      7.26  30867.108182  Oct-2015   \n",
       "1571946    100000.0      12000   36 months      9.44   7668.610000  Jun-2017   \n",
       "\n",
       "        addr_state zip_code  tier_group  \n",
       "2071303         MI    488xx   Tier_Four  \n",
       "1339284         IN    473xx   Tier_Four  \n",
       "61827           AL    368xx  Tier_Three  \n",
       "1051089         AK    997xx   Tier_Four  \n",
       "1571946         CA    958xx   Tier_Four  "
      ]
     },
     "execution_count": 10,
     "metadata": {},
     "output_type": "execute_result"
    }
   ],
   "source": [
    "sampleOne = pertinent_loans_df.sample(1000)\n",
    "sampleOne.head()"
   ]
  },
  {
   "cell_type": "markdown",
   "metadata": {},
   "source": [
    "Create a DataFrame for each tier"
   ]
  },
  {
   "cell_type": "code",
   "execution_count": null,
   "metadata": {},
   "outputs": [],
   "source": [
    "Tier_One_df = pertinent_loans_df[pertinent_loans_df[\"tier_group\"] == \"Tier_One\"] \n",
    "\n",
    "#sample test group of 100\n",
    "tierOneSample = Tier_One_df.sample(100)\n",
    "\n",
    "\n",
    "tierOne_totalLoans = Tier_One_df[\"annual_inc\"].count()\n",
    "\n",
    "tierOne_averageLoanAmount = Tier_One_df[\"loan_amnt\"].mean()\n",
    "tierOne_averageLoanAmount = round(tierOne_averageLoanAmount)\n",
    "\n",
    "tierOne_averageInterestRate = Tier_One_df[\"int_rate\"].mean()\n",
    "tierOne_averageInterestRate = format(tierOne_averageInterestRate, \"4.2f\")\n",
    "\n",
    "print(\"Total number of loans for tier one: \" + str(tierOne_totalLoans))\n",
    "print(\"Average loan ammount: \" + str(tierOne_lone_amnt_mean))\n",
    "print(\"Average interest rate: \" + str(tierOne_averageInterestRate))\n"
   ]
  },
  {
   "cell_type": "code",
   "execution_count": 12,
   "metadata": {},
   "outputs": [
    {
     "name": "stdout",
     "output_type": "stream",
     "text": [
      "Total number of loans for tier one: 2954\n",
      "Average loan ammount: 11096\n",
      "Average interest rate: 14.81\n"
     ]
    }
   ],
   "source": [
    "Tier_One_df = pertinent_loans_df[pertinent_loans_df[\"tier_group\"] == \"Tier_One\"] \n",
    "\n",
    "#sample test group of 100\n",
    "tierOneSample = Tier_One_df.sample(100)\n",
    "\n",
    "\n",
    "tierOne_totalLoans = Tier_One_df[\"annual_inc\"].count()\n",
    "\n",
    "tierOne_averageLoanAmount = Tier_One_df[\"loan_amnt\"].mean()\n",
    "tierOne_averageLoanAmount = round(tierOne_averageLoanAmount)\n",
    "\n",
    "tierOne_averageInterestRate = Tier_One_df[\"int_rate\"].mean()\n",
    "tierOne_averageInterestRate = format(tierOne_averageInterestRate, \"4.2f\")\n",
    "\n",
    "print(\"Total number of loans for tier one: \" + str(tierOne_totalLoans))\n",
    "print(\"Average loan ammount: \" + str(tierOne_averageLoanAmount))\n",
    "print(\"Average interest rate: \" + str(tierOne_averageInterestRate))\n"
   ]
  },
  {
   "cell_type": "code",
   "execution_count": 13,
   "metadata": {
    "scrolled": true
   },
   "outputs": [
    {
     "data": {
      "text/plain": [
       "343095"
      ]
     },
     "execution_count": 13,
     "metadata": {},
     "output_type": "execute_result"
    }
   ],
   "source": [
    "Tier_Two_df = pertinent_loans_df[pertinent_loans_df[\"tier_group\"] == \"Tier_Two\"] \n",
    "#sample\n",
    "tierTwoSample = Tier_Two_df.sample(100)\n",
    "Tier_Two_df[\"annual_inc\"].count()"
   ]
  },
  {
   "cell_type": "code",
   "execution_count": 14,
   "metadata": {},
   "outputs": [
    {
     "data": {
      "text/plain": [
       "1196274"
      ]
     },
     "execution_count": 14,
     "metadata": {},
     "output_type": "execute_result"
    }
   ],
   "source": [
    "Tier_Three_df = pertinent_loans_df[pertinent_loans_df[\"tier_group\"] == \"Tier_Three\"] \n",
    "#sample\n",
    "tierThreeSample = Tier_Three_df.sample(100)\n",
    "Tier_Three_df[\"annual_inc\"].count()"
   ]
  },
  {
   "cell_type": "code",
   "execution_count": 15,
   "metadata": {},
   "outputs": [
    {
     "data": {
      "text/plain": [
       "604591"
      ]
     },
     "execution_count": 15,
     "metadata": {},
     "output_type": "execute_result"
    }
   ],
   "source": [
    "Tier_Four_df = pertinent_loans_df[pertinent_loans_df[\"tier_group\"] == \"Tier_Four\"] \n",
    "#sample\n",
    "tierFourSample = Tier_Four_df.sample(100)\n",
    "Tier_Four_df[\"annual_inc\"].count()"
   ]
  },
  {
   "cell_type": "code",
   "execution_count": 16,
   "metadata": {},
   "outputs": [
    {
     "data": {
      "text/plain": [
       "59806"
      ]
     },
     "execution_count": 16,
     "metadata": {},
     "output_type": "execute_result"
    }
   ],
   "source": [
    "Tier_Five_df = pertinent_loans_df[pertinent_loans_df[\"tier_group\"] == \"Tier_Five\"] \n",
    "#sample\n",
    "tierFiveSample = Tier_Five_df.sample(100)\n",
    "Tier_Five_df[\"annual_inc\"].count()"
   ]
  },
  {
   "cell_type": "code",
   "execution_count": 17,
   "metadata": {},
   "outputs": [
    {
     "data": {
      "text/plain": [
       "48894"
      ]
     },
     "execution_count": 17,
     "metadata": {},
     "output_type": "execute_result"
    }
   ],
   "source": [
    "Tier_Six_df = pertinent_loans_df[pertinent_loans_df[\"tier_group\"] == \"Tier_Six\"] \n",
    "#sample\n",
    "tierSixSample = Tier_Six_df.sample(100)\n",
    "Tier_Six_df[\"annual_inc\"].count()"
   ]
  },
  {
   "cell_type": "code",
   "execution_count": 18,
   "metadata": {},
   "outputs": [
    {
     "data": {
      "text/plain": [
       "3383"
      ]
     },
     "execution_count": 18,
     "metadata": {},
     "output_type": "execute_result"
    }
   ],
   "source": [
    "Tier_Seven_df = pertinent_loans_df[pertinent_loans_df[\"tier_group\"] == \"Tier_Seven\"] \n",
    "#sample\n",
    "tierSevenSample = Tier_Seven_df.sample(100)\n",
    "Tier_Seven_df[\"annual_inc\"].count()"
   ]
  },
  {
   "cell_type": "code",
   "execution_count": null,
   "metadata": {},
   "outputs": [],
   "source": []
  },
  {
   "cell_type": "markdown",
   "metadata": {},
   "source": [
    "Heat Map"
   ]
  },
  {
   "cell_type": "code",
   "execution_count": 19,
   "metadata": {},
   "outputs": [],
   "source": [
    "# Configure gmaps with API key\n",
    "gmaps.configure(api_key=gkey)"
   ]
  },
  {
   "cell_type": "code",
   "execution_count": 20,
   "metadata": {},
   "outputs": [
    {
     "data": {
      "text/html": [
       "<div>\n",
       "<style scoped>\n",
       "    .dataframe tbody tr th:only-of-type {\n",
       "        vertical-align: middle;\n",
       "    }\n",
       "\n",
       "    .dataframe tbody tr th {\n",
       "        vertical-align: top;\n",
       "    }\n",
       "\n",
       "    .dataframe thead th {\n",
       "        text-align: right;\n",
       "    }\n",
       "</style>\n",
       "<table border=\"1\" class=\"dataframe\">\n",
       "  <thead>\n",
       "    <tr style=\"text-align: right;\">\n",
       "      <th></th>\n",
       "      <th>addr_state</th>\n",
       "      <th>Latitudinal Coordinates</th>\n",
       "      <th>Longitudinal Coordinates</th>\n",
       "    </tr>\n",
       "  </thead>\n",
       "  <tbody>\n",
       "    <tr>\n",
       "      <td>0</td>\n",
       "      <td>AL</td>\n",
       "      <td>32.3792233</td>\n",
       "      <td>-86.3077368</td>\n",
       "    </tr>\n",
       "    <tr>\n",
       "      <td>1</td>\n",
       "      <td>AK</td>\n",
       "      <td>58.3019444</td>\n",
       "      <td>-134.4197221</td>\n",
       "    </tr>\n",
       "    <tr>\n",
       "      <td>2</td>\n",
       "      <td>AZ</td>\n",
       "      <td>33.4483771</td>\n",
       "      <td>-112.0740373</td>\n",
       "    </tr>\n",
       "    <tr>\n",
       "      <td>3</td>\n",
       "      <td>AR</td>\n",
       "      <td>34.7464809</td>\n",
       "      <td>-92.28959479999999</td>\n",
       "    </tr>\n",
       "    <tr>\n",
       "      <td>4</td>\n",
       "      <td>CA</td>\n",
       "      <td>38.5815719</td>\n",
       "      <td>-121.4943996</td>\n",
       "    </tr>\n",
       "  </tbody>\n",
       "</table>\n",
       "</div>"
      ],
      "text/plain": [
       "  addr_state Latitudinal Coordinates Longitudinal Coordinates\n",
       "0         AL              32.3792233              -86.3077368\n",
       "1         AK              58.3019444             -134.4197221\n",
       "2         AZ              33.4483771             -112.0740373\n",
       "3         AR              34.7464809       -92.28959479999999\n",
       "4         CA              38.5815719             -121.4943996"
      ]
     },
     "execution_count": 20,
     "metadata": {},
     "output_type": "execute_result"
    }
   ],
   "source": [
    "# Import the original data we analyzed earlier. Use dtype=\"object\" to match other\n",
    "coordinates_df = pd.read_csv(\n",
    "    \"Output/coordinates.csv\", dtype=\"object\", encoding=\"utf-8\")\n",
    "\n",
    "# Visualize\n",
    "coordinates_df.head()"
   ]
  },
  {
   "cell_type": "code",
   "execution_count": null,
   "metadata": {},
   "outputs": [],
   "source": []
  },
  {
   "cell_type": "code",
   "execution_count": 21,
   "metadata": {},
   "outputs": [
    {
     "data": {
      "text/html": [
       "<div>\n",
       "<style scoped>\n",
       "    .dataframe tbody tr th:only-of-type {\n",
       "        vertical-align: middle;\n",
       "    }\n",
       "\n",
       "    .dataframe tbody tr th {\n",
       "        vertical-align: top;\n",
       "    }\n",
       "\n",
       "    .dataframe thead th {\n",
       "        text-align: right;\n",
       "    }\n",
       "</style>\n",
       "<table border=\"1\" class=\"dataframe\">\n",
       "  <thead>\n",
       "    <tr style=\"text-align: right;\">\n",
       "      <th></th>\n",
       "      <th>annual_inc</th>\n",
       "      <th>loan_amnt</th>\n",
       "      <th>term</th>\n",
       "      <th>int_rate</th>\n",
       "      <th>total_pymnt</th>\n",
       "      <th>issue_d</th>\n",
       "      <th>addr_state</th>\n",
       "      <th>zip_code</th>\n",
       "      <th>tier_group</th>\n",
       "      <th>Latitudinal Coordinates</th>\n",
       "      <th>Longitudinal Coordinates</th>\n",
       "    </tr>\n",
       "  </thead>\n",
       "  <tbody>\n",
       "    <tr>\n",
       "      <td>0</td>\n",
       "      <td>55000.0</td>\n",
       "      <td>2500</td>\n",
       "      <td>36 months</td>\n",
       "      <td>13.56</td>\n",
       "      <td>167.02</td>\n",
       "      <td>Dec-2018</td>\n",
       "      <td>NY</td>\n",
       "      <td>109xx</td>\n",
       "      <td>Tier_Three</td>\n",
       "      <td>42.6525793</td>\n",
       "      <td>-73.7562317</td>\n",
       "    </tr>\n",
       "    <tr>\n",
       "      <td>1</td>\n",
       "      <td>90000.0</td>\n",
       "      <td>30000</td>\n",
       "      <td>60 months</td>\n",
       "      <td>18.94</td>\n",
       "      <td>1507.11</td>\n",
       "      <td>Dec-2018</td>\n",
       "      <td>LA</td>\n",
       "      <td>713xx</td>\n",
       "      <td>Tier_Four</td>\n",
       "      <td>30.4514677</td>\n",
       "      <td>-91.18714659999999</td>\n",
       "    </tr>\n",
       "    <tr>\n",
       "      <td>2</td>\n",
       "      <td>59280.0</td>\n",
       "      <td>5000</td>\n",
       "      <td>36 months</td>\n",
       "      <td>17.97</td>\n",
       "      <td>353.89</td>\n",
       "      <td>Dec-2018</td>\n",
       "      <td>MI</td>\n",
       "      <td>490xx</td>\n",
       "      <td>Tier_Three</td>\n",
       "      <td>42.732535</td>\n",
       "      <td>-84.5555347</td>\n",
       "    </tr>\n",
       "    <tr>\n",
       "      <td>3</td>\n",
       "      <td>92000.0</td>\n",
       "      <td>4000</td>\n",
       "      <td>36 months</td>\n",
       "      <td>18.94</td>\n",
       "      <td>286.71</td>\n",
       "      <td>Dec-2018</td>\n",
       "      <td>WA</td>\n",
       "      <td>985xx</td>\n",
       "      <td>Tier_Four</td>\n",
       "      <td>47.0378741</td>\n",
       "      <td>-122.9006951</td>\n",
       "    </tr>\n",
       "    <tr>\n",
       "      <td>4</td>\n",
       "      <td>57250.0</td>\n",
       "      <td>30000</td>\n",
       "      <td>60 months</td>\n",
       "      <td>16.14</td>\n",
       "      <td>1423.21</td>\n",
       "      <td>Dec-2018</td>\n",
       "      <td>MD</td>\n",
       "      <td>212xx</td>\n",
       "      <td>Tier_Three</td>\n",
       "      <td>38.9784453</td>\n",
       "      <td>-76.4921829</td>\n",
       "    </tr>\n",
       "  </tbody>\n",
       "</table>\n",
       "</div>"
      ],
      "text/plain": [
       "   annual_inc  loan_amnt        term  int_rate  total_pymnt   issue_d  \\\n",
       "0     55000.0       2500   36 months     13.56       167.02  Dec-2018   \n",
       "1     90000.0      30000   60 months     18.94      1507.11  Dec-2018   \n",
       "2     59280.0       5000   36 months     17.97       353.89  Dec-2018   \n",
       "3     92000.0       4000   36 months     18.94       286.71  Dec-2018   \n",
       "4     57250.0      30000   60 months     16.14      1423.21  Dec-2018   \n",
       "\n",
       "  addr_state zip_code  tier_group Latitudinal Coordinates  \\\n",
       "0         NY    109xx  Tier_Three              42.6525793   \n",
       "1         LA    713xx   Tier_Four              30.4514677   \n",
       "2         MI    490xx  Tier_Three               42.732535   \n",
       "3         WA    985xx   Tier_Four              47.0378741   \n",
       "4         MD    212xx  Tier_Three              38.9784453   \n",
       "\n",
       "  Longitudinal Coordinates  \n",
       "0              -73.7562317  \n",
       "1       -91.18714659999999  \n",
       "2              -84.5555347  \n",
       "3             -122.9006951  \n",
       "4              -76.4921829  "
      ]
     },
     "execution_count": 21,
     "metadata": {},
     "output_type": "execute_result"
    }
   ],
   "source": [
    "# Merge the two data sets along zip code\n",
    "pertinent_loans_coordinates_df = pd.merge(\n",
    "    pertinent_loans_df, coordinates_df, how=\"left\", on=[\"addr_state\", \"addr_state\"])\n",
    "\n",
    "# Remove rows missing data\n",
    "pertinent_loans_coordinates_df = pertinent_loans_coordinates_df.dropna()\n",
    "\n",
    "# Visualize\n",
    "pertinent_loans_coordinates_df.head()"
   ]
  },
  {
   "cell_type": "code",
   "execution_count": 22,
   "metadata": {},
   "outputs": [
    {
     "name": "stdout",
     "output_type": "stream",
     "text": [
      "[5227, 27264, 17054, 53711, 314299, 48140, 35771, 6455, 161893, 74153, 10663, 14, 4295, 91113, 37480, 19089, 21872, 25737, 51763, 53987, 4972, 58745, 39501, 36052, 12633, 6293, 62683, 3585, 7810, 11137, 83092, 11970, 32616, 186324, 75073, 20672, 26760, 76882, 10002, 27983, 4548, 35445, 186144, 14964, 62908, 4936, 46991, 29851, 8345, 4743]\n"
     ]
    },
    {
     "data": {
      "text/plain": [
       "314299"
      ]
     },
     "execution_count": 22,
     "metadata": {},
     "output_type": "execute_result"
    }
   ],
   "source": [
    "# Create a GroupBy object\n",
    "loan_state = pertinent_loans_coordinates_df.groupby(\"addr_state\")\n",
    "\n",
    "# Find how many rows fall into each bin\n",
    "loansPerState = loan_state[\"annual_inc\"].count()\n",
    "loansPerState = list(loansPerState)\n",
    "print(loansPerState)\n",
    "\n",
    "max(loansPerState)"
   ]
  },
  {
   "cell_type": "code",
   "execution_count": 23,
   "metadata": {},
   "outputs": [],
   "source": [
    "# Get the average of each column within the GroupBy object\n",
    "#loan_state[[\"int_rate\", \"loan_amnt\", \"annual_inc\"]].mean()\n"
   ]
  },
  {
   "cell_type": "code",
   "execution_count": 24,
   "metadata": {},
   "outputs": [
    {
     "name": "stdout",
     "output_type": "stream",
     "text": [
      "2253640\n"
     ]
    }
   ],
   "source": [
    "totalNumberOfLoans = sum(loansPerState)\n",
    "print(totalNumberOfLoans)"
   ]
  },
  {
   "cell_type": "code",
   "execution_count": 25,
   "metadata": {},
   "outputs": [],
   "source": [
    "stateLoansVStotal_list = []"
   ]
  },
  {
   "cell_type": "code",
   "execution_count": 26,
   "metadata": {},
   "outputs": [
    {
     "data": {
      "text/plain": [
       "1.0000000000000002"
      ]
     },
     "execution_count": 26,
     "metadata": {},
     "output_type": "execute_result"
    }
   ],
   "source": [
    "for i in loansPerState:\n",
    "    ratio = i/totalNumberOfLoans\n",
    "    stateLoansVStotal_list.append(ratio)\n",
    "sum(stateLoansVStotal_list)"
   ]
  },
  {
   "cell_type": "code",
   "execution_count": 27,
   "metadata": {},
   "outputs": [
    {
     "data": {
      "text/html": [
       "<div>\n",
       "<style scoped>\n",
       "    .dataframe tbody tr th:only-of-type {\n",
       "        vertical-align: middle;\n",
       "    }\n",
       "\n",
       "    .dataframe tbody tr th {\n",
       "        vertical-align: top;\n",
       "    }\n",
       "\n",
       "    .dataframe thead th {\n",
       "        text-align: right;\n",
       "    }\n",
       "</style>\n",
       "<table border=\"1\" class=\"dataframe\">\n",
       "  <thead>\n",
       "    <tr style=\"text-align: right;\">\n",
       "      <th></th>\n",
       "      <th>addr_state</th>\n",
       "      <th>Latitudinal Coordinates</th>\n",
       "      <th>Longitudinal Coordinates</th>\n",
       "      <th>Loan Ratio</th>\n",
       "    </tr>\n",
       "  </thead>\n",
       "  <tbody>\n",
       "    <tr>\n",
       "      <td>0</td>\n",
       "      <td>AL</td>\n",
       "      <td>32.3792233</td>\n",
       "      <td>-86.3077368</td>\n",
       "      <td>0.002319</td>\n",
       "    </tr>\n",
       "    <tr>\n",
       "      <td>1</td>\n",
       "      <td>AK</td>\n",
       "      <td>58.3019444</td>\n",
       "      <td>-134.4197221</td>\n",
       "      <td>0.012098</td>\n",
       "    </tr>\n",
       "    <tr>\n",
       "      <td>2</td>\n",
       "      <td>AZ</td>\n",
       "      <td>33.4483771</td>\n",
       "      <td>-112.0740373</td>\n",
       "      <td>0.007567</td>\n",
       "    </tr>\n",
       "    <tr>\n",
       "      <td>3</td>\n",
       "      <td>AR</td>\n",
       "      <td>34.7464809</td>\n",
       "      <td>-92.28959479999999</td>\n",
       "      <td>0.023833</td>\n",
       "    </tr>\n",
       "    <tr>\n",
       "      <td>4</td>\n",
       "      <td>CA</td>\n",
       "      <td>38.5815719</td>\n",
       "      <td>-121.4943996</td>\n",
       "      <td>0.139463</td>\n",
       "    </tr>\n",
       "  </tbody>\n",
       "</table>\n",
       "</div>"
      ],
      "text/plain": [
       "  addr_state Latitudinal Coordinates Longitudinal Coordinates  Loan Ratio\n",
       "0         AL              32.3792233              -86.3077368    0.002319\n",
       "1         AK              58.3019444             -134.4197221    0.012098\n",
       "2         AZ              33.4483771             -112.0740373    0.007567\n",
       "3         AR              34.7464809       -92.28959479999999    0.023833\n",
       "4         CA              38.5815719             -121.4943996    0.139463"
      ]
     },
     "execution_count": 27,
     "metadata": {},
     "output_type": "execute_result"
    }
   ],
   "source": [
    "coordinates_df[\"Loan Ratio\"] = stateLoansVStotal_list\n",
    "coordinates_df.head()"
   ]
  },
  {
   "cell_type": "code",
   "execution_count": 28,
   "metadata": {},
   "outputs": [
    {
     "data": {
      "text/html": [
       "<div>\n",
       "<style scoped>\n",
       "    .dataframe tbody tr th:only-of-type {\n",
       "        vertical-align: middle;\n",
       "    }\n",
       "\n",
       "    .dataframe tbody tr th {\n",
       "        vertical-align: top;\n",
       "    }\n",
       "\n",
       "    .dataframe thead th {\n",
       "        text-align: right;\n",
       "    }\n",
       "</style>\n",
       "<table border=\"1\" class=\"dataframe\">\n",
       "  <thead>\n",
       "    <tr style=\"text-align: right;\">\n",
       "      <th></th>\n",
       "      <th>addr_state</th>\n",
       "      <th>Latitudinal Coordinates</th>\n",
       "      <th>Longitudinal Coordinates</th>\n",
       "      <th>Loan Ratio</th>\n",
       "    </tr>\n",
       "  </thead>\n",
       "  <tbody>\n",
       "    <tr>\n",
       "      <td>4</td>\n",
       "      <td>CA</td>\n",
       "      <td>38.5815719</td>\n",
       "      <td>-121.4943996</td>\n",
       "      <td>0.139463</td>\n",
       "    </tr>\n",
       "    <tr>\n",
       "      <td>33</td>\n",
       "      <td>ND</td>\n",
       "      <td>46.8083268</td>\n",
       "      <td>-100.7837392</td>\n",
       "      <td>0.082677</td>\n",
       "    </tr>\n",
       "    <tr>\n",
       "      <td>42</td>\n",
       "      <td>TX</td>\n",
       "      <td>30.267153</td>\n",
       "      <td>-97.7430608</td>\n",
       "      <td>0.082597</td>\n",
       "    </tr>\n",
       "    <tr>\n",
       "      <td>8</td>\n",
       "      <td>FL</td>\n",
       "      <td>30.4382559</td>\n",
       "      <td>-84.28073289999999</td>\n",
       "      <td>0.071836</td>\n",
       "    </tr>\n",
       "    <tr>\n",
       "      <td>13</td>\n",
       "      <td>IN</td>\n",
       "      <td>39.768403</td>\n",
       "      <td>-86.158068</td>\n",
       "      <td>0.040429</td>\n",
       "    </tr>\n",
       "  </tbody>\n",
       "</table>\n",
       "</div>"
      ],
      "text/plain": [
       "   addr_state Latitudinal Coordinates Longitudinal Coordinates  Loan Ratio\n",
       "4          CA              38.5815719             -121.4943996    0.139463\n",
       "33         ND              46.8083268             -100.7837392    0.082677\n",
       "42         TX               30.267153              -97.7430608    0.082597\n",
       "8          FL              30.4382559       -84.28073289999999    0.071836\n",
       "13         IN               39.768403               -86.158068    0.040429"
      ]
     },
     "execution_count": 28,
     "metadata": {},
     "output_type": "execute_result"
    }
   ],
   "source": [
    "coordinates_df.nlargest(5, ['Loan Ratio'])"
   ]
  },
  {
   "cell_type": "code",
   "execution_count": 29,
   "metadata": {},
   "outputs": [
    {
     "data": {
      "text/html": [
       "<div>\n",
       "<style scoped>\n",
       "    .dataframe tbody tr th:only-of-type {\n",
       "        vertical-align: middle;\n",
       "    }\n",
       "\n",
       "    .dataframe tbody tr th {\n",
       "        vertical-align: top;\n",
       "    }\n",
       "\n",
       "    .dataframe thead th {\n",
       "        text-align: right;\n",
       "    }\n",
       "</style>\n",
       "<table border=\"1\" class=\"dataframe\">\n",
       "  <thead>\n",
       "    <tr style=\"text-align: right;\">\n",
       "      <th></th>\n",
       "      <th>addr_state</th>\n",
       "      <th>Latitudinal Coordinates</th>\n",
       "      <th>Longitudinal Coordinates</th>\n",
       "      <th>Loan Ratio</th>\n",
       "    </tr>\n",
       "  </thead>\n",
       "  <tbody>\n",
       "    <tr>\n",
       "      <td>11</td>\n",
       "      <td>ID</td>\n",
       "      <td>43.6150186</td>\n",
       "      <td>-116.2023137</td>\n",
       "      <td>0.000006</td>\n",
       "    </tr>\n",
       "    <tr>\n",
       "      <td>27</td>\n",
       "      <td>NV</td>\n",
       "      <td>39.1637984</td>\n",
       "      <td>-119.7674034</td>\n",
       "      <td>0.001591</td>\n",
       "    </tr>\n",
       "    <tr>\n",
       "      <td>12</td>\n",
       "      <td>IL</td>\n",
       "      <td>39.78172130000001</td>\n",
       "      <td>-89.6501481</td>\n",
       "      <td>0.001906</td>\n",
       "    </tr>\n",
       "    <tr>\n",
       "      <td>40</td>\n",
       "      <td>SD</td>\n",
       "      <td>44.36678759999999</td>\n",
       "      <td>-100.3537522</td>\n",
       "      <td>0.002018</td>\n",
       "    </tr>\n",
       "    <tr>\n",
       "      <td>49</td>\n",
       "      <td>WY</td>\n",
       "      <td>41.1399814</td>\n",
       "      <td>-104.8202462</td>\n",
       "      <td>0.002105</td>\n",
       "    </tr>\n",
       "  </tbody>\n",
       "</table>\n",
       "</div>"
      ],
      "text/plain": [
       "   addr_state Latitudinal Coordinates Longitudinal Coordinates  Loan Ratio\n",
       "11         ID              43.6150186             -116.2023137    0.000006\n",
       "27         NV              39.1637984             -119.7674034    0.001591\n",
       "12         IL       39.78172130000001              -89.6501481    0.001906\n",
       "40         SD       44.36678759999999             -100.3537522    0.002018\n",
       "49         WY              41.1399814             -104.8202462    0.002105"
      ]
     },
     "execution_count": 29,
     "metadata": {},
     "output_type": "execute_result"
    }
   ],
   "source": [
    "coordinates_df.nsmallest(5, ['Loan Ratio'])"
   ]
  },
  {
   "cell_type": "code",
   "execution_count": 30,
   "metadata": {},
   "outputs": [],
   "source": [
    "# Store 'Lat' and 'Lng' into  locations \n",
    "locations = coordinates_df[[\"Latitudinal Coordinates\", \"Longitudinal Coordinates\"]].astype(float)"
   ]
  },
  {
   "cell_type": "code",
   "execution_count": 31,
   "metadata": {},
   "outputs": [],
   "source": [
    "# Convert loan Rate to float and store\n",
    "loan_ratio = coordinates_df[\"Loan Ratio\"].astype(float)"
   ]
  },
  {
   "cell_type": "code",
   "execution_count": 35,
   "metadata": {},
   "outputs": [
    {
     "data": {
      "application/vnd.jupyter.widget-view+json": {
       "model_id": "29bc546876f546bfa3c17c9e6ee9f845",
       "version_major": 2,
       "version_minor": 0
      },
      "text/plain": [
       "Figure(layout=FigureLayout(height='420px'))"
      ]
     },
     "metadata": {},
     "output_type": "display_data"
    }
   ],
   "source": [
    "# Create a poverty Heatmap layer\n",
    "fig = gmaps.figure()\n",
    "\n",
    "heat_layer = gmaps.heatmap_layer(locations, weights=(loan_ratio * 3000), \n",
    "                                 dissipating=False, max_intensity=100,\n",
    "                                 point_radius = 2)\n",
    "\n",
    "fig.add_layer(heat_layer)\n",
    "\n",
    "fig"
   ]
  },
  {
   "cell_type": "code",
   "execution_count": null,
   "metadata": {},
   "outputs": [],
   "source": []
  }
 ],
 "metadata": {
  "kernelspec": {
   "display_name": "Python 3",
   "language": "python",
   "name": "python3"
  },
  "language_info": {
   "codemirror_mode": {
    "name": "ipython",
    "version": 3
   },
   "file_extension": ".py",
   "mimetype": "text/x-python",
   "name": "python",
   "nbconvert_exporter": "python",
   "pygments_lexer": "ipython3",
   "version": "3.6.9"
  }
 },
 "nbformat": 4,
 "nbformat_minor": 2
}
