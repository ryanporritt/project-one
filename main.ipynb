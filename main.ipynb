{
 "cells": [
  {
   "cell_type": "code",
   "execution_count": null,
   "metadata": {},
   "outputs": [],
   "source": [
    "import os\n",
    "import random\n",
    "import pandas as pd\n",
    "\n",
    "# Set path for file\n",
    "csvpath = os.path.join(\"loan.csv\")\n",
    "print(csvpath)"
   ]
  },
  {
   "cell_type": "code",
   "execution_count": null,
   "metadata": {},
   "outputs": [],
   "source": [
    "loans_df = pd.read_csv(csvpath)\n",
    "loans_df.head()"
   ]
  },
  {
   "cell_type": "code",
   "execution_count": null,
   "metadata": {},
   "outputs": [],
   "source": [
    "pertinent_loans_df = loans_df[[ \"annual_inc\", \"loan_amnt\", \"term\", \"int_rate\", \"total_pymnt\", \"issue_d\", \"addr_state\", \"zip_code\"]]\n",
    "pertinent_loans_df"
   ]
  },
  {
   "cell_type": "code",
   "execution_count": null,
   "metadata": {},
   "outputs": [],
   "source": [
    "pertinent_loans_df[\"annual_inc\"].max()"
   ]
  },
  {
   "cell_type": "code",
   "execution_count": null,
   "metadata": {},
   "outputs": [],
   "source": [
    "# Create the bins in which annual_inc will be held, based on tax brackets\n",
    "bins = [0, 9700, 39475, 84200, 160725, 204100, 510300, 110000000]\n",
    "\n",
    "\n",
    "# Create the names for the four bins\n",
    "income_tiers = [\"Tier_One\", \"Tier_Two\", \"Tier_Three\", \"Tier_Four\", \"Tier_Five\", \"Tier_Six\", \"Tier_Seven\"]"
   ]
  },
  {
   "cell_type": "code",
   "execution_count": null,
   "metadata": {},
   "outputs": [],
   "source": [
    "a = pd.cut(pertinent_loans_df[\"annual_inc\"], bins, labels=income_tiers)\n",
    "a.head()"
   ]
  },
  {
   "cell_type": "code",
   "execution_count": null,
   "metadata": {},
   "outputs": [],
   "source": [
    "pertinent_loans_df[\"tier_group\"] = a\n",
    "pertinent_loans_df.head()"
   ]
  },
  {
   "cell_type": "code",
   "execution_count": null,
   "metadata": {},
   "outputs": [],
   "source": [
    "# Create a GroupBy object based upon \"View Group\"\n",
    "loan_group = pertinent_loans_df.groupby(\"tier_group\")\n",
    "\n",
    "# Find how many rows fall into each bin\n",
    "print(loan_group[\"annual_inc\"].count())\n",
    "\n",
    "# Get the average of each column within the GroupBy object\n",
    "loan_group[[\"int_rate\", \"loan_amnt\", \"annual_inc\"]].mean()"
   ]
  },
  {
   "cell_type": "markdown",
   "metadata": {},
   "source": [
    "100 loans from each tier "
   ]
  },
  {
   "cell_type": "code",
   "execution_count": null,
   "metadata": {},
   "outputs": [],
   "source": [
    "##df.iloc[np.random.randint(1,1000), :]"
   ]
  },
  {
   "cell_type": "code",
   "execution_count": null,
   "metadata": {},
   "outputs": [],
   "source": []
  }
 ],
 "metadata": {
  "kernelspec": {
   "display_name": "Python 3",
   "language": "python",
   "name": "python3"
  },
  "language_info": {
   "codemirror_mode": {
    "name": "ipython",
    "version": 3
   },
   "file_extension": ".py",
   "mimetype": "text/x-python",
   "name": "python",
   "nbconvert_exporter": "python",
   "pygments_lexer": "ipython3",
   "version": "3.6.9"
  }
 },
 "nbformat": 4,
 "nbformat_minor": 2
}
